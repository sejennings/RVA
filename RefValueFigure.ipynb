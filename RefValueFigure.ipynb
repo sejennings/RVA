{
 "cells": [
  {
   "cell_type": "code",
   "execution_count": 1,
   "metadata": {},
   "outputs": [],
   "source": [
    "import pandas as pd\n",
    "import plotly.graph_objects as go\n",
    "from pathlib import Path"
   ]
  },
  {
   "cell_type": "code",
   "execution_count": 2,
   "metadata": {},
   "outputs": [],
   "source": [
    "file_path = Path('DataRefValue.xlsx')\n",
    "\n",
    "data = pd.read_excel(file_path, sheet_name= 'Sheet1')"
   ]
  },
  {
   "cell_type": "code",
   "execution_count": 3,
   "metadata": {},
   "outputs": [
    {
     "name": "stdout",
     "output_type": "stream",
     "text": [
      "         RefValue   Value1  Duration1   Value2  Duration2   Value3  Duration3  \\\n",
      "0          AEGL-1    420.0       0.17    240.0        0.5    170.0        1.0   \n",
      "1          AEGL-2   6500.0       0.17   3600.0        0.5   2600.0        1.0   \n",
      "2          AEGL-3  31000.0       0.17  18000.0        0.5  13000.0        1.0   \n",
      "3          ERPG-1    156.0       1.00      NaN        NaN      NaN        NaN   \n",
      "4          ERPG-2    470.0       1.00      NaN        NaN      NaN        NaN   \n",
      "5          ERPG-3   3190.0       1.00      NaN        NaN      NaN        NaN   \n",
      "6           PAC-1      NaN        NaN      NaN        NaN      NaN        NaN   \n",
      "7           PAC-2      NaN        NaN      NaN        NaN      NaN        NaN   \n",
      "8           PAC-3      NaN        NaN      NaN        NaN      NaN        NaN   \n",
      "9  ACGIH-Ceiling*      NaN        NaN      NaN        NaN      NaN        NaN   \n",
      "\n",
      "   Value4  Duration4  Value5  Duration5  Value6  Duration6  \\\n",
      "0    58.0        4.0    29.0        8.0     NaN        NaN   \n",
      "1  1300.0        4.0   650.0        8.0     NaN        NaN   \n",
      "2  6500.0        4.0  3300.0        8.0     NaN        NaN   \n",
      "3     NaN        NaN     NaN        NaN     NaN        NaN   \n",
      "4     NaN        NaN     NaN        NaN     NaN        NaN   \n",
      "5     NaN        NaN     NaN        NaN     NaN        NaN   \n",
      "6     NaN        NaN     NaN        NaN     NaN        NaN   \n",
      "7     NaN        NaN     NaN        NaN     NaN        NaN   \n",
      "8     NaN        NaN     NaN        NaN     NaN        NaN   \n",
      "9     NaN        NaN     NaN        NaN     NaN        NaN   \n",
      "\n",
      "                 Type   Color  \n",
      "0  Emergency Response     Red  \n",
      "1  Emergency Response     Red  \n",
      "2  Emergency Response     Red  \n",
      "3        Occupational  Orange  \n",
      "4        Occupational  Orange  \n",
      "5  Emergency Response     Red  \n",
      "6  Emergency Response     Red  \n",
      "7  Emergency Response     Red  \n",
      "8  Emergency Response     Red  \n",
      "9        Occupational  Orange  \n"
     ]
    }
   ],
   "source": [
    "ref_values = data['RefValue']\n",
    "\n",
    "value_columns = ['Value1', 'Value2', 'Value3', 'Value4', 'Value5', 'Value6'] \n",
    "\n",
    "#data = data.dropna(subset=value_columns, how='all')\n",
    "\n",
    "#ref_values = data['RefValue']\n",
    "time_periods = ['Duration1', 'Duration2', 'Duration3', 'Duration4', 'Duration5', 'Duration6']\n",
    "#Evalue_columns = ['Value1', 'Value2', 'Value3', 'Value4', 'Value5', 'Value6'] \n",
    "\n",
    "valid_ref_values = data.loc[~data['Value1'].isna(), 'RefValue']\n",
    "\n",
    "value_types = ['Emergency Response', 'Occupational', 'General Public']\n",
    "\n",
    "data = data.loc[:, ~data.columns.str.contains('^Unnamed')]\n",
    "\n",
    "print(data.head(10))\n"
   ]
  },
  {
   "cell_type": "code",
   "execution_count": 4,
   "metadata": {},
   "outputs": [],
   "source": [
    "Emergency = data[data['Type'] == 'Emergency Response']\n",
    "Occupation = data[data['Type'] == 'Occupational']\n",
    "Public = data[data['Type'] == 'General Public']"
   ]
  },
  {
   "cell_type": "code",
   "execution_count": 5,
   "metadata": {},
   "outputs": [],
   "source": [
    "fig = go.Figure()\n",
    "\n",
    "category_colors = {\n",
    "    \"Emergency Response\" : 'Red',\n",
    "    \"Occupational\" : 'Gold',\n",
    "    \"General Public\" : 'Green',\n",
    "}\n",
    "\n",
    "legend_positions = {\n",
    "    \"Emergency Response\" : {'y': 0.8, \"bgcolor\":'Red'},\n",
    "    \"Occupational\" : {'y': 0.6, \"bgcolor\":'Gold'},\n",
    "    \"General Public\" : {'y': 0.1, \"bgcolor\":'Green'},\n",
    "}\n",
    "\n",
    "for idx, ref_value in enumerate(ref_values):\n",
    "    durations = data.loc[idx, time_periods].dropna().values\n",
    "    values = data.loc[idx, value_columns].dropna().values\n",
    "\n",
    "    showlegend = ref_value in valid_ref_values\n",
    "\n",
    "    category = data.loc[idx, 'Type']\n",
    "\n",
    "    if category == \"Emergency Response\":\n",
    "        legend_title = \"Emergency Response\"\n",
    "        legend_bgcolor = \"Red\"\n",
    "    elif category == \"Occupational\":\n",
    "        legend_title = \"Occupational\"\n",
    "        legend_bgcolor = \"Gold\"\n",
    "    else:\n",
    "        legend_title = \"General Public\"\n",
    "        legend_bgcolor = \"Green\"\n",
    "\n",
    "    fig.add_trace(go.Scatter(\n",
    "        x=durations,\n",
    "        y=values,\n",
    "        mode='lines+markers',\n",
    "        name=ref_value,\n",
    "        legendgroup=category\n",
    "        #marker=dict(color =category_colors.get(category, \"Gray\"))\n",
    "    ))"
   ]
  },
  {
   "cell_type": "code",
   "execution_count": 6,
   "metadata": {},
   "outputs": [
    {
     "data": {
      "text/plain": [
       "'\\nfor category, props in legend_positions.items():\\n    annotations.append(dict(\\n        x = 1.05, y=props[\"y\"],\\n        xref=\\'paper\\', yref = \\'paper\\',\\n        text = category,\\n        showarrow = False, \\n        bgcolor = props[\"bgcolor\"],\\n        font = dict(color=\"White\", size =8)\\n    ))\\n    legend_y -= legend_gap\\n\\n'"
      ]
     },
     "execution_count": 6,
     "metadata": {},
     "output_type": "execute_result"
    }
   ],
   "source": [
    "annotations = []\n",
    "\n",
    "legend_x = 1.05\n",
    "legend_y = 1.0\n",
    "legend_gap = 0.1\n",
    "\n",
    "\n",
    "\"\"\"\n",
    "for category, props in legend_positions.items():\n",
    "    annotations.append(dict(\n",
    "        x = 1.05, y=props[\"y\"],\n",
    "        xref='paper', yref = 'paper',\n",
    "        text = category,\n",
    "        showarrow = False, \n",
    "        bgcolor = props[\"bgcolor\"],\n",
    "        font = dict(color=\"White\", size =8)\n",
    "    ))\n",
    "    legend_y -= legend_gap\n",
    "\n",
    "\"\"\""
   ]
  },
  {
   "cell_type": "code",
   "execution_count": 7,
   "metadata": {},
   "outputs": [
    {
     "data": {
      "application/vnd.plotly.v1+json": {
       "config": {
        "plotlyServerURL": "https://plot.ly"
       },
       "data": [
        {
         "legendgroup": "Emergency Response",
         "mode": "lines+markers",
         "name": "AEGL-1",
         "type": "scatter",
         "x": [
          0.17,
          0.5,
          1,
          4,
          8
         ],
         "y": [
          420,
          240,
          170,
          58,
          29
         ]
        },
        {
         "legendgroup": "Emergency Response",
         "mode": "lines+markers",
         "name": "AEGL-2",
         "type": "scatter",
         "x": [
          0.17,
          0.5,
          1,
          4,
          8
         ],
         "y": [
          6500,
          3600,
          2600,
          1300,
          650
         ]
        },
        {
         "legendgroup": "Emergency Response",
         "mode": "lines+markers",
         "name": "AEGL-3",
         "type": "scatter",
         "x": [
          0.17,
          0.5,
          1,
          4,
          8
         ],
         "y": [
          31000,
          18000,
          13000,
          6500,
          3300
         ]
        },
        {
         "legendgroup": "Occupational",
         "mode": "lines+markers",
         "name": "ERPG-1",
         "type": "scatter",
         "x": [
          1
         ],
         "y": [
          156
         ]
        },
        {
         "legendgroup": "Occupational",
         "mode": "lines+markers",
         "name": "ERPG-2",
         "type": "scatter",
         "x": [
          1
         ],
         "y": [
          470
         ]
        },
        {
         "legendgroup": "Emergency Response",
         "mode": "lines+markers",
         "name": "ERPG-3",
         "type": "scatter",
         "x": [
          1
         ],
         "y": [
          3190
         ]
        },
        {
         "legendgroup": "Emergency Response",
         "mode": "lines+markers",
         "name": "PAC-1",
         "type": "scatter",
         "x": [],
         "y": []
        },
        {
         "legendgroup": "Emergency Response",
         "mode": "lines+markers",
         "name": "PAC-2",
         "type": "scatter",
         "x": [],
         "y": []
        },
        {
         "legendgroup": "Emergency Response",
         "mode": "lines+markers",
         "name": "PAC-3",
         "type": "scatter",
         "x": [],
         "y": []
        },
        {
         "legendgroup": "Occupational",
         "mode": "lines+markers",
         "name": "ACGIH-Ceiling*",
         "type": "scatter",
         "x": [],
         "y": []
        },
        {
         "legendgroup": "Occupational",
         "mode": "lines+markers",
         "name": "NIOSH-Ceiling*",
         "type": "scatter",
         "x": [],
         "y": []
        },
        {
         "legendgroup": "Occupational",
         "mode": "lines+markers",
         "name": "OSHA-Ceiling*",
         "type": "scatter",
         "x": [],
         "y": []
        },
        {
         "legendgroup": "Occupational",
         "mode": "lines+markers",
         "name": "ACGIH-STEL*",
         "type": "scatter",
         "x": [
          0.17
         ],
         "y": [
          8
         ]
        },
        {
         "legendgroup": "Occupational",
         "mode": "lines+markers",
         "name": "NIOSH-STEL*",
         "type": "scatter",
         "x": [
          0.17
         ],
         "y": [
          3.2
         ]
        },
        {
         "legendgroup": "Occupational",
         "mode": "lines+markers",
         "name": "OSHA-STEL*",
         "type": "scatter",
         "x": [
          0.17
         ],
         "y": [
          16
         ]
        },
        {
         "legendgroup": "Occupational",
         "mode": "lines+markers",
         "name": "NIOSH IDLH*",
         "type": "scatter",
         "x": [
          0.5
         ],
         "y": [
          1600
         ]
        },
        {
         "legendgroup": "Occupational",
         "mode": "lines+markers",
         "name": "ACGIH-TLV (TWA)*",
         "type": "scatter",
         "x": [
          8,
          350400
         ],
         "y": [
          1.7,
          1.7
         ]
        },
        {
         "legendgroup": "Occupational",
         "mode": "lines+markers",
         "name": "NIOSH-REL (TWA)*",
         "type": "scatter",
         "x": [
          10,
          350400
         ],
         "y": [
          0.32,
          0.32
         ]
        },
        {
         "legendgroup": "Occupational",
         "mode": "lines+markers",
         "name": "DFG-MAK (TWA)*",
         "type": "scatter",
         "x": [],
         "y": []
        },
        {
         "legendgroup": "Occupational",
         "mode": "lines+markers",
         "name": "Cal/OSHA-PEL (TWA)*",
         "type": "scatter",
         "x": [
          8,
          350400
         ],
         "y": [
          3.2,
          3.2
         ]
        },
        {
         "legendgroup": "Occupational",
         "mode": "lines+markers",
         "name": "Cal/OSHA-Ceiling*",
         "type": "scatter",
         "x": [],
         "y": []
        },
        {
         "legendgroup": "Occupational",
         "mode": "lines+markers",
         "name": "Cal/OSHA-STEL*",
         "type": "scatter",
         "x": [
          0.17
         ],
         "y": [
          16
         ]
        },
        {
         "legendgroup": "Occupational",
         "mode": "lines+markers",
         "name": "OSHA-PEL (TWA)*",
         "type": "scatter",
         "x": [
          8,
          350400
         ],
         "y": [
          3.2
         ]
        },
        {
         "legendgroup": "Occupational",
         "mode": "lines+markers",
         "name": "MEG-C",
         "type": "scatter",
         "x": [
          1
         ],
         "y": [
          13000
         ]
        },
        {
         "legendgroup": "Occupational",
         "mode": "lines+markers",
         "name": "MEG-M",
         "type": "scatter",
         "x": [
          1
         ],
         "y": [
          2600
         ]
        },
        {
         "legendgroup": "Occupational",
         "mode": "lines+markers",
         "name": "MEG-N",
         "type": "scatter",
         "x": [
          1,
          8,
          336,
          8736
         ],
         "y": [
          170,
          29,
          0.64,
          0.055
         ]
        },
        {
         "legendgroup": "Occupational",
         "mode": "lines+markers",
         "name": "EEGL",
         "type": "scatter",
         "x": [
          1,
          24
         ],
         "y": [
          128,
          9.6
         ]
        },
        {
         "legendgroup": "Occupational",
         "mode": "lines+markers",
         "name": "CEGL",
         "type": "scatter",
         "x": [
          2160
         ],
         "y": [
          0.64
         ]
        },
        {
         "legendgroup": "Occupational",
         "mode": "lines+markers",
         "name": "SMAC",
         "type": "scatter",
         "x": [
          1,
          24,
          168,
          720,
          4320,
          24000
         ],
         "y": [
          32,
          9.6,
          1.6,
          0.32,
          0.22,
          0.04
         ]
        },
        {
         "legendgroup": "General Public",
         "mode": "lines+markers",
         "name": "CA-REL (1 hr)",
         "type": "scatter",
         "x": [
          1
         ],
         "y": [
          0.027
         ]
        },
        {
         "legendgroup": "General Public",
         "mode": "lines+markers",
         "name": "CA-REL (8 hr)",
         "type": "scatter",
         "x": [
          8
         ],
         "y": [
          0.003
         ]
        },
        {
         "legendgroup": "General Public",
         "mode": "lines+markers",
         "name": "ATSDR-MRL (1-14 d)",
         "type": "scatter",
         "x": [
          24,
          336
         ],
         "y": [
          0.029,
          0.029
         ]
        },
        {
         "legendgroup": "General Public",
         "mode": "lines+markers",
         "name": "ATSDR-MRL (15-365 d)",
         "type": "scatter",
         "x": [
          336,
          8736
         ],
         "y": [
          0.019,
          0.019
         ]
        },
        {
         "legendgroup": "General Public",
         "mode": "lines+markers",
         "name": "PPRTV p-RfC (Subchronic)",
         "type": "scatter",
         "x": [
          720,
          61320
         ],
         "y": [
          0.08,
          0.08
         ]
        },
        {
         "legendgroup": "General Public",
         "mode": "lines+markers",
         "name": "CA-REL (Chronic)",
         "type": "scatter",
         "x": [
          61320,
          613200
         ],
         "y": [
          0.003,
          0.003
         ]
        },
        {
         "legendgroup": "General Public",
         "mode": "lines+markers",
         "name": "ATSDR-MRL (> 1yr)",
         "type": "scatter",
         "x": [
          8736,
          613200
         ],
         "y": [
          0.0096,
          0.0096
         ]
        },
        {
         "legendgroup": "General Public",
         "mode": "lines+markers",
         "name": "TX-ReV (1 hr)",
         "type": "scatter",
         "x": [
          1
         ],
         "y": [
          0.58
         ]
        },
        {
         "legendgroup": "General Public",
         "mode": "lines+markers",
         "name": "TX-ReV (24 hr)",
         "type": "scatter",
         "x": [
          24
         ],
         "y": [
          0.32
         ]
        },
        {
         "legendgroup": "General Public",
         "mode": "lines+markers",
         "name": "TX-ReV (Chronic)",
         "type": "scatter",
         "x": [
          61320,
          613200
         ],
         "y": [
          0.28,
          0.28
         ]
        },
        {
         "legendgroup": "General Public",
         "mode": "lines+markers",
         "name": "MDH HRV",
         "type": "scatter",
         "x": [],
         "y": []
        },
        {
         "legendgroup": "General Public",
         "mode": "lines+markers",
         "name": "MDH HBV (24 hr)",
         "type": "scatter",
         "x": [
          24
         ],
         "y": [
          0.03
         ]
        },
        {
         "legendgroup": "General Public",
         "mode": "lines+markers",
         "name": "MDH HBV (Short-term)",
         "type": "scatter",
         "x": [
          24,
          720
         ],
         "y": [
          0.01,
          0.01
         ]
        },
        {
         "legendgroup": "General Public",
         "mode": "lines+markers",
         "name": "MDH HBV (Subchronic)",
         "type": "scatter",
         "x": [
          720,
          61320
         ],
         "y": [
          0.008,
          0.008
         ]
        },
        {
         "legendgroup": "General Public",
         "mode": "lines+markers",
         "name": "MDH HBV (Chronic)",
         "type": "scatter",
         "x": [
          61320,
          613200
         ],
         "y": [
          0.003,
          0.003
         ]
        },
        {
         "legendgroup": "General Public",
         "mode": "lines+markers",
         "name": "MDH HBV (Cancer)",
         "type": "scatter",
         "x": [
          675000
         ],
         "y": [
          0.0008
         ]
        },
        {
         "legendgroup": "General Public",
         "mode": "lines+markers",
         "name": "Health Canada TC",
         "type": "scatter",
         "x": [],
         "y": []
        },
        {
         "legendgroup": "General Public",
         "mode": "lines+markers",
         "name": "RIVM CR",
         "type": "scatter",
         "x": [
          675000
         ],
         "y": [
          0.02
         ]
        },
        {
         "legendgroup": "General Public",
         "mode": "lines+markers",
         "name": "EPA IRIS RfC",
         "type": "scatter",
         "x": [
          61320,
          613200
         ],
         "y": [
          0.03,
          0.03
         ]
        },
        {
         "legendgroup": "General Public",
         "mode": "lines+markers",
         "name": "WHO Air Quality Guideline",
         "type": "scatter",
         "x": [],
         "y": []
        },
        {
         "legendgroup": "General Public",
         "mode": "lines+markers",
         "name": "State Value 1",
         "type": "scatter",
         "x": [
          0.5,
          1,
          8,
          24,
          8736,
          675000
         ],
         "y": [
          0.75,
          0.03,
          0.15,
          0.02,
          0.00012,
          0.00036
         ]
        },
        {
         "legendgroup": "General Public",
         "mode": "lines+markers",
         "name": "State Value 2",
         "type": "scatter",
         "x": [
          24,
          8736
         ],
         "y": [
          0.0006,
          0.0001
         ]
        },
        {
         "legendgroup": "General Public",
         "mode": "lines+markers",
         "name": "State Average",
         "type": "scatter",
         "x": [
          0.5,
          1,
          8,
          24,
          8736,
          675000
         ],
         "y": [
          0.75,
          0.03,
          0.15,
          0.0103,
          0.0001125,
          0.00036
         ]
        },
        {
         "legendgroup": "General Public",
         "mode": "lines+markers",
         "name": "State Min.",
         "type": "scatter",
         "x": [
          0.5,
          1,
          8,
          24,
          8736,
          675000
         ],
         "y": [
          0.75,
          0.03,
          0.15,
          0.0006,
          0.0001,
          0.00036
         ]
        },
        {
         "legendgroup": "General Public",
         "mode": "lines+markers",
         "name": "State Max.",
         "type": "scatter",
         "x": [
          0.5,
          1,
          8,
          24,
          8736,
          675000
         ],
         "y": [
          0.75,
          0.03,
          0.15,
          0.02,
          0.00013,
          0.00036
         ]
        },
        {
         "legendgroup": "General Public",
         "mode": "lines+markers",
         "name": "Low Value",
         "type": "scatter",
         "x": [
          24,
          8736
         ],
         "y": [
          0.0097,
          0.000012499999999999992
         ]
        },
        {
         "legendgroup": "General Public",
         "mode": "lines+markers",
         "name": "High Value",
         "type": "scatter",
         "x": [
          24,
          8736
         ],
         "y": [
          0.0097,
          0.00001749999999999999
         ]
        },
        {
         "legendgroup": "General Public",
         "mode": "lines+markers",
         "name": "OEHHA Cancer Range",
         "type": "scatter",
         "x": [
          945000,
          945000
         ],
         "y": [
          0.00003448275862068965,
          0.0034137931034482756
         ]
        },
        {
         "legendgroup": "General Public",
         "mode": "lines+markers",
         "name": "Upper EPA Cancer Range",
         "type": "scatter",
         "x": [
          675000,
          675000
         ],
         "y": [
          0.0004545454545454545,
          0.04499999999999999
         ]
        },
        {
         "legendgroup": "General Public",
         "mode": "lines+markers",
         "name": "Lower EPA Cancer Range",
         "type": "scatter",
         "x": [
          750000,
          750000
         ],
         "y": [
          0.0001282051282051282,
          0.012692307692307692
         ]
        },
        {
         "legendgroup": "General Public",
         "mode": "lines+markers",
         "name": "Health Canada Cancer Range",
         "type": "scatter",
         "x": [
          845000,
          845000
         ],
         "y": [
          0.0000625,
          0.0061875
         ]
        }
       ],
       "layout": {
        "height": 1000,
        "legend": {
         "font": {
          "color": "Grey",
          "size": 8
         },
         "tracegroupgap": 5
        },
        "template": {
         "data": {
          "bar": [
           {
            "error_x": {
             "color": "#2a3f5f"
            },
            "error_y": {
             "color": "#2a3f5f"
            },
            "marker": {
             "line": {
              "color": "white",
              "width": 0.5
             },
             "pattern": {
              "fillmode": "overlay",
              "size": 10,
              "solidity": 0.2
             }
            },
            "type": "bar"
           }
          ],
          "barpolar": [
           {
            "marker": {
             "line": {
              "color": "white",
              "width": 0.5
             },
             "pattern": {
              "fillmode": "overlay",
              "size": 10,
              "solidity": 0.2
             }
            },
            "type": "barpolar"
           }
          ],
          "carpet": [
           {
            "aaxis": {
             "endlinecolor": "#2a3f5f",
             "gridcolor": "#C8D4E3",
             "linecolor": "#C8D4E3",
             "minorgridcolor": "#C8D4E3",
             "startlinecolor": "#2a3f5f"
            },
            "baxis": {
             "endlinecolor": "#2a3f5f",
             "gridcolor": "#C8D4E3",
             "linecolor": "#C8D4E3",
             "minorgridcolor": "#C8D4E3",
             "startlinecolor": "#2a3f5f"
            },
            "type": "carpet"
           }
          ],
          "choropleth": [
           {
            "colorbar": {
             "outlinewidth": 0,
             "ticks": ""
            },
            "type": "choropleth"
           }
          ],
          "contour": [
           {
            "colorbar": {
             "outlinewidth": 0,
             "ticks": ""
            },
            "colorscale": [
             [
              0,
              "#0d0887"
             ],
             [
              0.1111111111111111,
              "#46039f"
             ],
             [
              0.2222222222222222,
              "#7201a8"
             ],
             [
              0.3333333333333333,
              "#9c179e"
             ],
             [
              0.4444444444444444,
              "#bd3786"
             ],
             [
              0.5555555555555556,
              "#d8576b"
             ],
             [
              0.6666666666666666,
              "#ed7953"
             ],
             [
              0.7777777777777778,
              "#fb9f3a"
             ],
             [
              0.8888888888888888,
              "#fdca26"
             ],
             [
              1,
              "#f0f921"
             ]
            ],
            "type": "contour"
           }
          ],
          "contourcarpet": [
           {
            "colorbar": {
             "outlinewidth": 0,
             "ticks": ""
            },
            "type": "contourcarpet"
           }
          ],
          "heatmap": [
           {
            "colorbar": {
             "outlinewidth": 0,
             "ticks": ""
            },
            "colorscale": [
             [
              0,
              "#0d0887"
             ],
             [
              0.1111111111111111,
              "#46039f"
             ],
             [
              0.2222222222222222,
              "#7201a8"
             ],
             [
              0.3333333333333333,
              "#9c179e"
             ],
             [
              0.4444444444444444,
              "#bd3786"
             ],
             [
              0.5555555555555556,
              "#d8576b"
             ],
             [
              0.6666666666666666,
              "#ed7953"
             ],
             [
              0.7777777777777778,
              "#fb9f3a"
             ],
             [
              0.8888888888888888,
              "#fdca26"
             ],
             [
              1,
              "#f0f921"
             ]
            ],
            "type": "heatmap"
           }
          ],
          "heatmapgl": [
           {
            "colorbar": {
             "outlinewidth": 0,
             "ticks": ""
            },
            "colorscale": [
             [
              0,
              "#0d0887"
             ],
             [
              0.1111111111111111,
              "#46039f"
             ],
             [
              0.2222222222222222,
              "#7201a8"
             ],
             [
              0.3333333333333333,
              "#9c179e"
             ],
             [
              0.4444444444444444,
              "#bd3786"
             ],
             [
              0.5555555555555556,
              "#d8576b"
             ],
             [
              0.6666666666666666,
              "#ed7953"
             ],
             [
              0.7777777777777778,
              "#fb9f3a"
             ],
             [
              0.8888888888888888,
              "#fdca26"
             ],
             [
              1,
              "#f0f921"
             ]
            ],
            "type": "heatmapgl"
           }
          ],
          "histogram": [
           {
            "marker": {
             "pattern": {
              "fillmode": "overlay",
              "size": 10,
              "solidity": 0.2
             }
            },
            "type": "histogram"
           }
          ],
          "histogram2d": [
           {
            "colorbar": {
             "outlinewidth": 0,
             "ticks": ""
            },
            "colorscale": [
             [
              0,
              "#0d0887"
             ],
             [
              0.1111111111111111,
              "#46039f"
             ],
             [
              0.2222222222222222,
              "#7201a8"
             ],
             [
              0.3333333333333333,
              "#9c179e"
             ],
             [
              0.4444444444444444,
              "#bd3786"
             ],
             [
              0.5555555555555556,
              "#d8576b"
             ],
             [
              0.6666666666666666,
              "#ed7953"
             ],
             [
              0.7777777777777778,
              "#fb9f3a"
             ],
             [
              0.8888888888888888,
              "#fdca26"
             ],
             [
              1,
              "#f0f921"
             ]
            ],
            "type": "histogram2d"
           }
          ],
          "histogram2dcontour": [
           {
            "colorbar": {
             "outlinewidth": 0,
             "ticks": ""
            },
            "colorscale": [
             [
              0,
              "#0d0887"
             ],
             [
              0.1111111111111111,
              "#46039f"
             ],
             [
              0.2222222222222222,
              "#7201a8"
             ],
             [
              0.3333333333333333,
              "#9c179e"
             ],
             [
              0.4444444444444444,
              "#bd3786"
             ],
             [
              0.5555555555555556,
              "#d8576b"
             ],
             [
              0.6666666666666666,
              "#ed7953"
             ],
             [
              0.7777777777777778,
              "#fb9f3a"
             ],
             [
              0.8888888888888888,
              "#fdca26"
             ],
             [
              1,
              "#f0f921"
             ]
            ],
            "type": "histogram2dcontour"
           }
          ],
          "mesh3d": [
           {
            "colorbar": {
             "outlinewidth": 0,
             "ticks": ""
            },
            "type": "mesh3d"
           }
          ],
          "parcoords": [
           {
            "line": {
             "colorbar": {
              "outlinewidth": 0,
              "ticks": ""
             }
            },
            "type": "parcoords"
           }
          ],
          "pie": [
           {
            "automargin": true,
            "type": "pie"
           }
          ],
          "scatter": [
           {
            "fillpattern": {
             "fillmode": "overlay",
             "size": 10,
             "solidity": 0.2
            },
            "type": "scatter"
           }
          ],
          "scatter3d": [
           {
            "line": {
             "colorbar": {
              "outlinewidth": 0,
              "ticks": ""
             }
            },
            "marker": {
             "colorbar": {
              "outlinewidth": 0,
              "ticks": ""
             }
            },
            "type": "scatter3d"
           }
          ],
          "scattercarpet": [
           {
            "marker": {
             "colorbar": {
              "outlinewidth": 0,
              "ticks": ""
             }
            },
            "type": "scattercarpet"
           }
          ],
          "scattergeo": [
           {
            "marker": {
             "colorbar": {
              "outlinewidth": 0,
              "ticks": ""
             }
            },
            "type": "scattergeo"
           }
          ],
          "scattergl": [
           {
            "marker": {
             "colorbar": {
              "outlinewidth": 0,
              "ticks": ""
             }
            },
            "type": "scattergl"
           }
          ],
          "scattermapbox": [
           {
            "marker": {
             "colorbar": {
              "outlinewidth": 0,
              "ticks": ""
             }
            },
            "type": "scattermapbox"
           }
          ],
          "scatterpolar": [
           {
            "marker": {
             "colorbar": {
              "outlinewidth": 0,
              "ticks": ""
             }
            },
            "type": "scatterpolar"
           }
          ],
          "scatterpolargl": [
           {
            "marker": {
             "colorbar": {
              "outlinewidth": 0,
              "ticks": ""
             }
            },
            "type": "scatterpolargl"
           }
          ],
          "scatterternary": [
           {
            "marker": {
             "colorbar": {
              "outlinewidth": 0,
              "ticks": ""
             }
            },
            "type": "scatterternary"
           }
          ],
          "surface": [
           {
            "colorbar": {
             "outlinewidth": 0,
             "ticks": ""
            },
            "colorscale": [
             [
              0,
              "#0d0887"
             ],
             [
              0.1111111111111111,
              "#46039f"
             ],
             [
              0.2222222222222222,
              "#7201a8"
             ],
             [
              0.3333333333333333,
              "#9c179e"
             ],
             [
              0.4444444444444444,
              "#bd3786"
             ],
             [
              0.5555555555555556,
              "#d8576b"
             ],
             [
              0.6666666666666666,
              "#ed7953"
             ],
             [
              0.7777777777777778,
              "#fb9f3a"
             ],
             [
              0.8888888888888888,
              "#fdca26"
             ],
             [
              1,
              "#f0f921"
             ]
            ],
            "type": "surface"
           }
          ],
          "table": [
           {
            "cells": {
             "fill": {
              "color": "#EBF0F8"
             },
             "line": {
              "color": "white"
             }
            },
            "header": {
             "fill": {
              "color": "#C8D4E3"
             },
             "line": {
              "color": "white"
             }
            },
            "type": "table"
           }
          ]
         },
         "layout": {
          "annotationdefaults": {
           "arrowcolor": "#2a3f5f",
           "arrowhead": 0,
           "arrowwidth": 1
          },
          "autotypenumbers": "strict",
          "coloraxis": {
           "colorbar": {
            "outlinewidth": 0,
            "ticks": ""
           }
          },
          "colorscale": {
           "diverging": [
            [
             0,
             "#8e0152"
            ],
            [
             0.1,
             "#c51b7d"
            ],
            [
             0.2,
             "#de77ae"
            ],
            [
             0.3,
             "#f1b6da"
            ],
            [
             0.4,
             "#fde0ef"
            ],
            [
             0.5,
             "#f7f7f7"
            ],
            [
             0.6,
             "#e6f5d0"
            ],
            [
             0.7,
             "#b8e186"
            ],
            [
             0.8,
             "#7fbc41"
            ],
            [
             0.9,
             "#4d9221"
            ],
            [
             1,
             "#276419"
            ]
           ],
           "sequential": [
            [
             0,
             "#0d0887"
            ],
            [
             0.1111111111111111,
             "#46039f"
            ],
            [
             0.2222222222222222,
             "#7201a8"
            ],
            [
             0.3333333333333333,
             "#9c179e"
            ],
            [
             0.4444444444444444,
             "#bd3786"
            ],
            [
             0.5555555555555556,
             "#d8576b"
            ],
            [
             0.6666666666666666,
             "#ed7953"
            ],
            [
             0.7777777777777778,
             "#fb9f3a"
            ],
            [
             0.8888888888888888,
             "#fdca26"
            ],
            [
             1,
             "#f0f921"
            ]
           ],
           "sequentialminus": [
            [
             0,
             "#0d0887"
            ],
            [
             0.1111111111111111,
             "#46039f"
            ],
            [
             0.2222222222222222,
             "#7201a8"
            ],
            [
             0.3333333333333333,
             "#9c179e"
            ],
            [
             0.4444444444444444,
             "#bd3786"
            ],
            [
             0.5555555555555556,
             "#d8576b"
            ],
            [
             0.6666666666666666,
             "#ed7953"
            ],
            [
             0.7777777777777778,
             "#fb9f3a"
            ],
            [
             0.8888888888888888,
             "#fdca26"
            ],
            [
             1,
             "#f0f921"
            ]
           ]
          },
          "colorway": [
           "#636efa",
           "#EF553B",
           "#00cc96",
           "#ab63fa",
           "#FFA15A",
           "#19d3f3",
           "#FF6692",
           "#B6E880",
           "#FF97FF",
           "#FECB52"
          ],
          "font": {
           "color": "#2a3f5f"
          },
          "geo": {
           "bgcolor": "white",
           "lakecolor": "white",
           "landcolor": "white",
           "showlakes": true,
           "showland": true,
           "subunitcolor": "#C8D4E3"
          },
          "hoverlabel": {
           "align": "left"
          },
          "hovermode": "closest",
          "mapbox": {
           "style": "light"
          },
          "paper_bgcolor": "white",
          "plot_bgcolor": "white",
          "polar": {
           "angularaxis": {
            "gridcolor": "#EBF0F8",
            "linecolor": "#EBF0F8",
            "ticks": ""
           },
           "bgcolor": "white",
           "radialaxis": {
            "gridcolor": "#EBF0F8",
            "linecolor": "#EBF0F8",
            "ticks": ""
           }
          },
          "scene": {
           "xaxis": {
            "backgroundcolor": "white",
            "gridcolor": "#DFE8F3",
            "gridwidth": 2,
            "linecolor": "#EBF0F8",
            "showbackground": true,
            "ticks": "",
            "zerolinecolor": "#EBF0F8"
           },
           "yaxis": {
            "backgroundcolor": "white",
            "gridcolor": "#DFE8F3",
            "gridwidth": 2,
            "linecolor": "#EBF0F8",
            "showbackground": true,
            "ticks": "",
            "zerolinecolor": "#EBF0F8"
           },
           "zaxis": {
            "backgroundcolor": "white",
            "gridcolor": "#DFE8F3",
            "gridwidth": 2,
            "linecolor": "#EBF0F8",
            "showbackground": true,
            "ticks": "",
            "zerolinecolor": "#EBF0F8"
           }
          },
          "shapedefaults": {
           "line": {
            "color": "#2a3f5f"
           }
          },
          "ternary": {
           "aaxis": {
            "gridcolor": "#DFE8F3",
            "linecolor": "#A2B1C6",
            "ticks": ""
           },
           "baxis": {
            "gridcolor": "#DFE8F3",
            "linecolor": "#A2B1C6",
            "ticks": ""
           },
           "bgcolor": "white",
           "caxis": {
            "gridcolor": "#DFE8F3",
            "linecolor": "#A2B1C6",
            "ticks": ""
           }
          },
          "title": {
           "x": 0.05
          },
          "xaxis": {
           "automargin": true,
           "gridcolor": "#EBF0F8",
           "linecolor": "#EBF0F8",
           "ticks": "",
           "title": {
            "standoff": 15
           },
           "zerolinecolor": "#EBF0F8",
           "zerolinewidth": 2
          },
          "yaxis": {
           "automargin": true,
           "gridcolor": "#EBF0F8",
           "linecolor": "#EBF0F8",
           "ticks": "",
           "title": {
            "standoff": 15
           },
           "zerolinecolor": "#EBF0F8",
           "zerolinewidth": 2
          }
         }
        },
        "title": {
         "text": "Benzene Inhalation Reference Values"
        },
        "width": 1200,
        "xaxis": {
         "title": {
          "text": "Duration (Hours)"
         },
         "type": "log"
        },
        "yaxis": {
         "title": {
          "text": "Concentration mg/m3"
         },
         "type": "log"
        }
       }
      }
     },
     "metadata": {},
     "output_type": "display_data"
    }
   ],
   "source": [
    "fig.update_layout(\n",
    "    title=\"Benzene Inhalation Reference Values\",\n",
    "    xaxis_title=\"Duration (Hours)\",\n",
    "    yaxis_title=\"Concentration mg/m3\",\n",
    "    xaxis_type=\"log\",\n",
    "    yaxis_type=\"log\",\n",
    "    template=\"plotly_white\",\n",
    "    height = 1000,\n",
    "    width = 1200,\n",
    "\n",
    "    legend = dict(\n",
    "        # groupclick = \"toggleitem\",\n",
    "        tracegroupgap = 5,\n",
    "        #orientation = \"h\",\n",
    "        #x=0,\n",
    "        #y=-0.2,\n",
    "        #traceorder=\"normal\",\n",
    "        # bgcolor = \"LightSteelBlue\",\n",
    "        font=dict(\n",
    "            color = \"Grey\",\n",
    "            size=8\n",
    "        )\n",
    "    ),\n",
    "    annotations = annotations\n",
    "\n",
    ")\n"
   ]
  },
  {
   "cell_type": "code",
   "execution_count": 8,
   "metadata": {},
   "outputs": [
    {
     "data": {
      "text/plain": [
       "\"\\n    fig.add_annotation(\\n                x=lines[k],\\n                y=1.06,\\n                yref='paper',\\n                showarrow=False,\\n                text=k)\\n\""
      ]
     },
     "execution_count": 8,
     "metadata": {},
     "output_type": "execute_result"
    }
   ],
   "source": [
    "# lines to add, specified by x-position\n",
    "lines = {'24 Hours':24,'30 Days':720,'7 years':61320,'70 Years':613200,'Cancer Ranges':675000}\n",
    "\n",
    "# '90 Days':2160,'180 Days':4320,'364 Days':8736,'1000 Days':24000, '40 Years':350400,\n",
    "\n",
    "\n",
    "# add lines using absolute references\n",
    "for k in lines.keys():\n",
    "    #print(k)\n",
    "    fig.add_shape(type='line',\n",
    "                yref=\"y\",\n",
    "                xref=\"x\",\n",
    "                x0=lines[k],\n",
    "                y0=0.00001,\n",
    "                x1=lines[k],\n",
    "                y1=150000,\n",
    "                line=dict(color='black', width=1))\n",
    "\"\"\"\n",
    "    fig.add_annotation(\n",
    "                x=lines[k],\n",
    "                y=1.06,\n",
    "                yref='paper',\n",
    "                showarrow=False,\n",
    "                text=k)\n",
    "\"\"\""
   ]
  },
  {
   "cell_type": "code",
   "execution_count": 9,
   "metadata": {},
   "outputs": [
    {
     "data": {
      "application/vnd.plotly.v1+json": {
       "config": {
        "plotlyServerURL": "https://plot.ly"
       },
       "data": [
        {
         "legendgroup": "Emergency Response",
         "mode": "lines+markers",
         "name": "AEGL-1",
         "type": "scatter",
         "x": [
          0.17,
          0.5,
          1,
          4,
          8
         ],
         "y": [
          420,
          240,
          170,
          58,
          29
         ]
        },
        {
         "legendgroup": "Emergency Response",
         "mode": "lines+markers",
         "name": "AEGL-2",
         "type": "scatter",
         "x": [
          0.17,
          0.5,
          1,
          4,
          8
         ],
         "y": [
          6500,
          3600,
          2600,
          1300,
          650
         ]
        },
        {
         "legendgroup": "Emergency Response",
         "mode": "lines+markers",
         "name": "AEGL-3",
         "type": "scatter",
         "x": [
          0.17,
          0.5,
          1,
          4,
          8
         ],
         "y": [
          31000,
          18000,
          13000,
          6500,
          3300
         ]
        },
        {
         "legendgroup": "Occupational",
         "mode": "lines+markers",
         "name": "ERPG-1",
         "type": "scatter",
         "x": [
          1
         ],
         "y": [
          156
         ]
        },
        {
         "legendgroup": "Occupational",
         "mode": "lines+markers",
         "name": "ERPG-2",
         "type": "scatter",
         "x": [
          1
         ],
         "y": [
          470
         ]
        },
        {
         "legendgroup": "Emergency Response",
         "mode": "lines+markers",
         "name": "ERPG-3",
         "type": "scatter",
         "x": [
          1
         ],
         "y": [
          3190
         ]
        },
        {
         "legendgroup": "Emergency Response",
         "mode": "lines+markers",
         "name": "PAC-1",
         "type": "scatter",
         "x": [],
         "y": []
        },
        {
         "legendgroup": "Emergency Response",
         "mode": "lines+markers",
         "name": "PAC-2",
         "type": "scatter",
         "x": [],
         "y": []
        },
        {
         "legendgroup": "Emergency Response",
         "mode": "lines+markers",
         "name": "PAC-3",
         "type": "scatter",
         "x": [],
         "y": []
        },
        {
         "legendgroup": "Occupational",
         "mode": "lines+markers",
         "name": "ACGIH-Ceiling*",
         "type": "scatter",
         "x": [],
         "y": []
        },
        {
         "legendgroup": "Occupational",
         "mode": "lines+markers",
         "name": "NIOSH-Ceiling*",
         "type": "scatter",
         "x": [],
         "y": []
        },
        {
         "legendgroup": "Occupational",
         "mode": "lines+markers",
         "name": "OSHA-Ceiling*",
         "type": "scatter",
         "x": [],
         "y": []
        },
        {
         "legendgroup": "Occupational",
         "mode": "lines+markers",
         "name": "ACGIH-STEL*",
         "type": "scatter",
         "x": [
          0.17
         ],
         "y": [
          8
         ]
        },
        {
         "legendgroup": "Occupational",
         "mode": "lines+markers",
         "name": "NIOSH-STEL*",
         "type": "scatter",
         "x": [
          0.17
         ],
         "y": [
          3.2
         ]
        },
        {
         "legendgroup": "Occupational",
         "mode": "lines+markers",
         "name": "OSHA-STEL*",
         "type": "scatter",
         "x": [
          0.17
         ],
         "y": [
          16
         ]
        },
        {
         "legendgroup": "Occupational",
         "mode": "lines+markers",
         "name": "NIOSH IDLH*",
         "type": "scatter",
         "x": [
          0.5
         ],
         "y": [
          1600
         ]
        },
        {
         "legendgroup": "Occupational",
         "mode": "lines+markers",
         "name": "ACGIH-TLV (TWA)*",
         "type": "scatter",
         "x": [
          8,
          350400
         ],
         "y": [
          1.7,
          1.7
         ]
        },
        {
         "legendgroup": "Occupational",
         "mode": "lines+markers",
         "name": "NIOSH-REL (TWA)*",
         "type": "scatter",
         "x": [
          10,
          350400
         ],
         "y": [
          0.32,
          0.32
         ]
        },
        {
         "legendgroup": "Occupational",
         "mode": "lines+markers",
         "name": "DFG-MAK (TWA)*",
         "type": "scatter",
         "x": [],
         "y": []
        },
        {
         "legendgroup": "Occupational",
         "mode": "lines+markers",
         "name": "Cal/OSHA-PEL (TWA)*",
         "type": "scatter",
         "x": [
          8,
          350400
         ],
         "y": [
          3.2,
          3.2
         ]
        },
        {
         "legendgroup": "Occupational",
         "mode": "lines+markers",
         "name": "Cal/OSHA-Ceiling*",
         "type": "scatter",
         "x": [],
         "y": []
        },
        {
         "legendgroup": "Occupational",
         "mode": "lines+markers",
         "name": "Cal/OSHA-STEL*",
         "type": "scatter",
         "x": [
          0.17
         ],
         "y": [
          16
         ]
        },
        {
         "legendgroup": "Occupational",
         "mode": "lines+markers",
         "name": "OSHA-PEL (TWA)*",
         "type": "scatter",
         "x": [
          8,
          350400
         ],
         "y": [
          3.2
         ]
        },
        {
         "legendgroup": "Occupational",
         "mode": "lines+markers",
         "name": "MEG-C",
         "type": "scatter",
         "x": [
          1
         ],
         "y": [
          13000
         ]
        },
        {
         "legendgroup": "Occupational",
         "mode": "lines+markers",
         "name": "MEG-M",
         "type": "scatter",
         "x": [
          1
         ],
         "y": [
          2600
         ]
        },
        {
         "legendgroup": "Occupational",
         "mode": "lines+markers",
         "name": "MEG-N",
         "type": "scatter",
         "x": [
          1,
          8,
          336,
          8736
         ],
         "y": [
          170,
          29,
          0.64,
          0.055
         ]
        },
        {
         "legendgroup": "Occupational",
         "mode": "lines+markers",
         "name": "EEGL",
         "type": "scatter",
         "x": [
          1,
          24
         ],
         "y": [
          128,
          9.6
         ]
        },
        {
         "legendgroup": "Occupational",
         "mode": "lines+markers",
         "name": "CEGL",
         "type": "scatter",
         "x": [
          2160
         ],
         "y": [
          0.64
         ]
        },
        {
         "legendgroup": "Occupational",
         "mode": "lines+markers",
         "name": "SMAC",
         "type": "scatter",
         "x": [
          1,
          24,
          168,
          720,
          4320,
          24000
         ],
         "y": [
          32,
          9.6,
          1.6,
          0.32,
          0.22,
          0.04
         ]
        },
        {
         "legendgroup": "General Public",
         "mode": "lines+markers",
         "name": "CA-REL (1 hr)",
         "type": "scatter",
         "x": [
          1
         ],
         "y": [
          0.027
         ]
        },
        {
         "legendgroup": "General Public",
         "mode": "lines+markers",
         "name": "CA-REL (8 hr)",
         "type": "scatter",
         "x": [
          8
         ],
         "y": [
          0.003
         ]
        },
        {
         "legendgroup": "General Public",
         "mode": "lines+markers",
         "name": "ATSDR-MRL (1-14 d)",
         "type": "scatter",
         "x": [
          24,
          336
         ],
         "y": [
          0.029,
          0.029
         ]
        },
        {
         "legendgroup": "General Public",
         "mode": "lines+markers",
         "name": "ATSDR-MRL (15-365 d)",
         "type": "scatter",
         "x": [
          336,
          8736
         ],
         "y": [
          0.019,
          0.019
         ]
        },
        {
         "legendgroup": "General Public",
         "mode": "lines+markers",
         "name": "PPRTV p-RfC (Subchronic)",
         "type": "scatter",
         "x": [
          720,
          61320
         ],
         "y": [
          0.08,
          0.08
         ]
        },
        {
         "legendgroup": "General Public",
         "mode": "lines+markers",
         "name": "CA-REL (Chronic)",
         "type": "scatter",
         "x": [
          61320,
          613200
         ],
         "y": [
          0.003,
          0.003
         ]
        },
        {
         "legendgroup": "General Public",
         "mode": "lines+markers",
         "name": "ATSDR-MRL (> 1yr)",
         "type": "scatter",
         "x": [
          8736,
          613200
         ],
         "y": [
          0.0096,
          0.0096
         ]
        },
        {
         "legendgroup": "General Public",
         "mode": "lines+markers",
         "name": "TX-ReV (1 hr)",
         "type": "scatter",
         "x": [
          1
         ],
         "y": [
          0.58
         ]
        },
        {
         "legendgroup": "General Public",
         "mode": "lines+markers",
         "name": "TX-ReV (24 hr)",
         "type": "scatter",
         "x": [
          24
         ],
         "y": [
          0.32
         ]
        },
        {
         "legendgroup": "General Public",
         "mode": "lines+markers",
         "name": "TX-ReV (Chronic)",
         "type": "scatter",
         "x": [
          61320,
          613200
         ],
         "y": [
          0.28,
          0.28
         ]
        },
        {
         "legendgroup": "General Public",
         "mode": "lines+markers",
         "name": "MDH HRV",
         "type": "scatter",
         "x": [],
         "y": []
        },
        {
         "legendgroup": "General Public",
         "mode": "lines+markers",
         "name": "MDH HBV (24 hr)",
         "type": "scatter",
         "x": [
          24
         ],
         "y": [
          0.03
         ]
        },
        {
         "legendgroup": "General Public",
         "mode": "lines+markers",
         "name": "MDH HBV (Short-term)",
         "type": "scatter",
         "x": [
          24,
          720
         ],
         "y": [
          0.01,
          0.01
         ]
        },
        {
         "legendgroup": "General Public",
         "mode": "lines+markers",
         "name": "MDH HBV (Subchronic)",
         "type": "scatter",
         "x": [
          720,
          61320
         ],
         "y": [
          0.008,
          0.008
         ]
        },
        {
         "legendgroup": "General Public",
         "mode": "lines+markers",
         "name": "MDH HBV (Chronic)",
         "type": "scatter",
         "x": [
          61320,
          613200
         ],
         "y": [
          0.003,
          0.003
         ]
        },
        {
         "legendgroup": "General Public",
         "mode": "lines+markers",
         "name": "MDH HBV (Cancer)",
         "type": "scatter",
         "x": [
          675000
         ],
         "y": [
          0.0008
         ]
        },
        {
         "legendgroup": "General Public",
         "mode": "lines+markers",
         "name": "Health Canada TC",
         "type": "scatter",
         "x": [],
         "y": []
        },
        {
         "legendgroup": "General Public",
         "mode": "lines+markers",
         "name": "RIVM CR",
         "type": "scatter",
         "x": [
          675000
         ],
         "y": [
          0.02
         ]
        },
        {
         "legendgroup": "General Public",
         "mode": "lines+markers",
         "name": "EPA IRIS RfC",
         "type": "scatter",
         "x": [
          61320,
          613200
         ],
         "y": [
          0.03,
          0.03
         ]
        },
        {
         "legendgroup": "General Public",
         "mode": "lines+markers",
         "name": "WHO Air Quality Guideline",
         "type": "scatter",
         "x": [],
         "y": []
        },
        {
         "legendgroup": "General Public",
         "mode": "lines+markers",
         "name": "State Value 1",
         "type": "scatter",
         "x": [
          0.5,
          1,
          8,
          24,
          8736,
          675000
         ],
         "y": [
          0.75,
          0.03,
          0.15,
          0.02,
          0.00012,
          0.00036
         ]
        },
        {
         "legendgroup": "General Public",
         "mode": "lines+markers",
         "name": "State Value 2",
         "type": "scatter",
         "x": [
          24,
          8736
         ],
         "y": [
          0.0006,
          0.0001
         ]
        },
        {
         "legendgroup": "General Public",
         "mode": "lines+markers",
         "name": "State Average",
         "type": "scatter",
         "x": [
          0.5,
          1,
          8,
          24,
          8736,
          675000
         ],
         "y": [
          0.75,
          0.03,
          0.15,
          0.0103,
          0.0001125,
          0.00036
         ]
        },
        {
         "legendgroup": "General Public",
         "mode": "lines+markers",
         "name": "State Min.",
         "type": "scatter",
         "x": [
          0.5,
          1,
          8,
          24,
          8736,
          675000
         ],
         "y": [
          0.75,
          0.03,
          0.15,
          0.0006,
          0.0001,
          0.00036
         ]
        },
        {
         "legendgroup": "General Public",
         "mode": "lines+markers",
         "name": "State Max.",
         "type": "scatter",
         "x": [
          0.5,
          1,
          8,
          24,
          8736,
          675000
         ],
         "y": [
          0.75,
          0.03,
          0.15,
          0.02,
          0.00013,
          0.00036
         ]
        },
        {
         "legendgroup": "General Public",
         "mode": "lines+markers",
         "name": "Low Value",
         "type": "scatter",
         "x": [
          24,
          8736
         ],
         "y": [
          0.0097,
          0.000012499999999999992
         ]
        },
        {
         "legendgroup": "General Public",
         "mode": "lines+markers",
         "name": "High Value",
         "type": "scatter",
         "x": [
          24,
          8736
         ],
         "y": [
          0.0097,
          0.00001749999999999999
         ]
        },
        {
         "legendgroup": "General Public",
         "mode": "lines+markers",
         "name": "OEHHA Cancer Range",
         "type": "scatter",
         "x": [
          945000,
          945000
         ],
         "y": [
          0.00003448275862068965,
          0.0034137931034482756
         ]
        },
        {
         "legendgroup": "General Public",
         "mode": "lines+markers",
         "name": "Upper EPA Cancer Range",
         "type": "scatter",
         "x": [
          675000,
          675000
         ],
         "y": [
          0.0004545454545454545,
          0.04499999999999999
         ]
        },
        {
         "legendgroup": "General Public",
         "mode": "lines+markers",
         "name": "Lower EPA Cancer Range",
         "type": "scatter",
         "x": [
          750000,
          750000
         ],
         "y": [
          0.0001282051282051282,
          0.012692307692307692
         ]
        },
        {
         "legendgroup": "General Public",
         "mode": "lines+markers",
         "name": "Health Canada Cancer Range",
         "type": "scatter",
         "x": [
          845000,
          845000
         ],
         "y": [
          0.0000625,
          0.0061875
         ]
        }
       ],
       "layout": {
        "annotations": [
         {
          "bgcolor": "Red",
          "font": {
           "color": "White",
           "size": 8
          },
          "showarrow": false,
          "text": "24 Hours",
          "x": 24
         }
        ],
        "height": 1000,
        "legend": {
         "font": {
          "color": "Grey",
          "size": 8
         },
         "tracegroupgap": 5
        },
        "shapes": [
         {
          "line": {
           "color": "black",
           "width": 1
          },
          "type": "line",
          "x0": 24,
          "x1": 24,
          "xref": "x",
          "y0": 0.00001,
          "y1": 150000,
          "yref": "y"
         },
         {
          "line": {
           "color": "black",
           "width": 1
          },
          "type": "line",
          "x0": 720,
          "x1": 720,
          "xref": "x",
          "y0": 0.00001,
          "y1": 150000,
          "yref": "y"
         },
         {
          "line": {
           "color": "black",
           "width": 1
          },
          "type": "line",
          "x0": 61320,
          "x1": 61320,
          "xref": "x",
          "y0": 0.00001,
          "y1": 150000,
          "yref": "y"
         },
         {
          "line": {
           "color": "black",
           "width": 1
          },
          "type": "line",
          "x0": 613200,
          "x1": 613200,
          "xref": "x",
          "y0": 0.00001,
          "y1": 150000,
          "yref": "y"
         },
         {
          "line": {
           "color": "black",
           "width": 1
          },
          "type": "line",
          "x0": 675000,
          "x1": 675000,
          "xref": "x",
          "y0": 0.00001,
          "y1": 150000,
          "yref": "y"
         }
        ],
        "template": {
         "data": {
          "bar": [
           {
            "error_x": {
             "color": "#2a3f5f"
            },
            "error_y": {
             "color": "#2a3f5f"
            },
            "marker": {
             "line": {
              "color": "white",
              "width": 0.5
             },
             "pattern": {
              "fillmode": "overlay",
              "size": 10,
              "solidity": 0.2
             }
            },
            "type": "bar"
           }
          ],
          "barpolar": [
           {
            "marker": {
             "line": {
              "color": "white",
              "width": 0.5
             },
             "pattern": {
              "fillmode": "overlay",
              "size": 10,
              "solidity": 0.2
             }
            },
            "type": "barpolar"
           }
          ],
          "carpet": [
           {
            "aaxis": {
             "endlinecolor": "#2a3f5f",
             "gridcolor": "#C8D4E3",
             "linecolor": "#C8D4E3",
             "minorgridcolor": "#C8D4E3",
             "startlinecolor": "#2a3f5f"
            },
            "baxis": {
             "endlinecolor": "#2a3f5f",
             "gridcolor": "#C8D4E3",
             "linecolor": "#C8D4E3",
             "minorgridcolor": "#C8D4E3",
             "startlinecolor": "#2a3f5f"
            },
            "type": "carpet"
           }
          ],
          "choropleth": [
           {
            "colorbar": {
             "outlinewidth": 0,
             "ticks": ""
            },
            "type": "choropleth"
           }
          ],
          "contour": [
           {
            "colorbar": {
             "outlinewidth": 0,
             "ticks": ""
            },
            "colorscale": [
             [
              0,
              "#0d0887"
             ],
             [
              0.1111111111111111,
              "#46039f"
             ],
             [
              0.2222222222222222,
              "#7201a8"
             ],
             [
              0.3333333333333333,
              "#9c179e"
             ],
             [
              0.4444444444444444,
              "#bd3786"
             ],
             [
              0.5555555555555556,
              "#d8576b"
             ],
             [
              0.6666666666666666,
              "#ed7953"
             ],
             [
              0.7777777777777778,
              "#fb9f3a"
             ],
             [
              0.8888888888888888,
              "#fdca26"
             ],
             [
              1,
              "#f0f921"
             ]
            ],
            "type": "contour"
           }
          ],
          "contourcarpet": [
           {
            "colorbar": {
             "outlinewidth": 0,
             "ticks": ""
            },
            "type": "contourcarpet"
           }
          ],
          "heatmap": [
           {
            "colorbar": {
             "outlinewidth": 0,
             "ticks": ""
            },
            "colorscale": [
             [
              0,
              "#0d0887"
             ],
             [
              0.1111111111111111,
              "#46039f"
             ],
             [
              0.2222222222222222,
              "#7201a8"
             ],
             [
              0.3333333333333333,
              "#9c179e"
             ],
             [
              0.4444444444444444,
              "#bd3786"
             ],
             [
              0.5555555555555556,
              "#d8576b"
             ],
             [
              0.6666666666666666,
              "#ed7953"
             ],
             [
              0.7777777777777778,
              "#fb9f3a"
             ],
             [
              0.8888888888888888,
              "#fdca26"
             ],
             [
              1,
              "#f0f921"
             ]
            ],
            "type": "heatmap"
           }
          ],
          "heatmapgl": [
           {
            "colorbar": {
             "outlinewidth": 0,
             "ticks": ""
            },
            "colorscale": [
             [
              0,
              "#0d0887"
             ],
             [
              0.1111111111111111,
              "#46039f"
             ],
             [
              0.2222222222222222,
              "#7201a8"
             ],
             [
              0.3333333333333333,
              "#9c179e"
             ],
             [
              0.4444444444444444,
              "#bd3786"
             ],
             [
              0.5555555555555556,
              "#d8576b"
             ],
             [
              0.6666666666666666,
              "#ed7953"
             ],
             [
              0.7777777777777778,
              "#fb9f3a"
             ],
             [
              0.8888888888888888,
              "#fdca26"
             ],
             [
              1,
              "#f0f921"
             ]
            ],
            "type": "heatmapgl"
           }
          ],
          "histogram": [
           {
            "marker": {
             "pattern": {
              "fillmode": "overlay",
              "size": 10,
              "solidity": 0.2
             }
            },
            "type": "histogram"
           }
          ],
          "histogram2d": [
           {
            "colorbar": {
             "outlinewidth": 0,
             "ticks": ""
            },
            "colorscale": [
             [
              0,
              "#0d0887"
             ],
             [
              0.1111111111111111,
              "#46039f"
             ],
             [
              0.2222222222222222,
              "#7201a8"
             ],
             [
              0.3333333333333333,
              "#9c179e"
             ],
             [
              0.4444444444444444,
              "#bd3786"
             ],
             [
              0.5555555555555556,
              "#d8576b"
             ],
             [
              0.6666666666666666,
              "#ed7953"
             ],
             [
              0.7777777777777778,
              "#fb9f3a"
             ],
             [
              0.8888888888888888,
              "#fdca26"
             ],
             [
              1,
              "#f0f921"
             ]
            ],
            "type": "histogram2d"
           }
          ],
          "histogram2dcontour": [
           {
            "colorbar": {
             "outlinewidth": 0,
             "ticks": ""
            },
            "colorscale": [
             [
              0,
              "#0d0887"
             ],
             [
              0.1111111111111111,
              "#46039f"
             ],
             [
              0.2222222222222222,
              "#7201a8"
             ],
             [
              0.3333333333333333,
              "#9c179e"
             ],
             [
              0.4444444444444444,
              "#bd3786"
             ],
             [
              0.5555555555555556,
              "#d8576b"
             ],
             [
              0.6666666666666666,
              "#ed7953"
             ],
             [
              0.7777777777777778,
              "#fb9f3a"
             ],
             [
              0.8888888888888888,
              "#fdca26"
             ],
             [
              1,
              "#f0f921"
             ]
            ],
            "type": "histogram2dcontour"
           }
          ],
          "mesh3d": [
           {
            "colorbar": {
             "outlinewidth": 0,
             "ticks": ""
            },
            "type": "mesh3d"
           }
          ],
          "parcoords": [
           {
            "line": {
             "colorbar": {
              "outlinewidth": 0,
              "ticks": ""
             }
            },
            "type": "parcoords"
           }
          ],
          "pie": [
           {
            "automargin": true,
            "type": "pie"
           }
          ],
          "scatter": [
           {
            "fillpattern": {
             "fillmode": "overlay",
             "size": 10,
             "solidity": 0.2
            },
            "type": "scatter"
           }
          ],
          "scatter3d": [
           {
            "line": {
             "colorbar": {
              "outlinewidth": 0,
              "ticks": ""
             }
            },
            "marker": {
             "colorbar": {
              "outlinewidth": 0,
              "ticks": ""
             }
            },
            "type": "scatter3d"
           }
          ],
          "scattercarpet": [
           {
            "marker": {
             "colorbar": {
              "outlinewidth": 0,
              "ticks": ""
             }
            },
            "type": "scattercarpet"
           }
          ],
          "scattergeo": [
           {
            "marker": {
             "colorbar": {
              "outlinewidth": 0,
              "ticks": ""
             }
            },
            "type": "scattergeo"
           }
          ],
          "scattergl": [
           {
            "marker": {
             "colorbar": {
              "outlinewidth": 0,
              "ticks": ""
             }
            },
            "type": "scattergl"
           }
          ],
          "scattermapbox": [
           {
            "marker": {
             "colorbar": {
              "outlinewidth": 0,
              "ticks": ""
             }
            },
            "type": "scattermapbox"
           }
          ],
          "scatterpolar": [
           {
            "marker": {
             "colorbar": {
              "outlinewidth": 0,
              "ticks": ""
             }
            },
            "type": "scatterpolar"
           }
          ],
          "scatterpolargl": [
           {
            "marker": {
             "colorbar": {
              "outlinewidth": 0,
              "ticks": ""
             }
            },
            "type": "scatterpolargl"
           }
          ],
          "scatterternary": [
           {
            "marker": {
             "colorbar": {
              "outlinewidth": 0,
              "ticks": ""
             }
            },
            "type": "scatterternary"
           }
          ],
          "surface": [
           {
            "colorbar": {
             "outlinewidth": 0,
             "ticks": ""
            },
            "colorscale": [
             [
              0,
              "#0d0887"
             ],
             [
              0.1111111111111111,
              "#46039f"
             ],
             [
              0.2222222222222222,
              "#7201a8"
             ],
             [
              0.3333333333333333,
              "#9c179e"
             ],
             [
              0.4444444444444444,
              "#bd3786"
             ],
             [
              0.5555555555555556,
              "#d8576b"
             ],
             [
              0.6666666666666666,
              "#ed7953"
             ],
             [
              0.7777777777777778,
              "#fb9f3a"
             ],
             [
              0.8888888888888888,
              "#fdca26"
             ],
             [
              1,
              "#f0f921"
             ]
            ],
            "type": "surface"
           }
          ],
          "table": [
           {
            "cells": {
             "fill": {
              "color": "#EBF0F8"
             },
             "line": {
              "color": "white"
             }
            },
            "header": {
             "fill": {
              "color": "#C8D4E3"
             },
             "line": {
              "color": "white"
             }
            },
            "type": "table"
           }
          ]
         },
         "layout": {
          "annotationdefaults": {
           "arrowcolor": "#2a3f5f",
           "arrowhead": 0,
           "arrowwidth": 1
          },
          "autotypenumbers": "strict",
          "coloraxis": {
           "colorbar": {
            "outlinewidth": 0,
            "ticks": ""
           }
          },
          "colorscale": {
           "diverging": [
            [
             0,
             "#8e0152"
            ],
            [
             0.1,
             "#c51b7d"
            ],
            [
             0.2,
             "#de77ae"
            ],
            [
             0.3,
             "#f1b6da"
            ],
            [
             0.4,
             "#fde0ef"
            ],
            [
             0.5,
             "#f7f7f7"
            ],
            [
             0.6,
             "#e6f5d0"
            ],
            [
             0.7,
             "#b8e186"
            ],
            [
             0.8,
             "#7fbc41"
            ],
            [
             0.9,
             "#4d9221"
            ],
            [
             1,
             "#276419"
            ]
           ],
           "sequential": [
            [
             0,
             "#0d0887"
            ],
            [
             0.1111111111111111,
             "#46039f"
            ],
            [
             0.2222222222222222,
             "#7201a8"
            ],
            [
             0.3333333333333333,
             "#9c179e"
            ],
            [
             0.4444444444444444,
             "#bd3786"
            ],
            [
             0.5555555555555556,
             "#d8576b"
            ],
            [
             0.6666666666666666,
             "#ed7953"
            ],
            [
             0.7777777777777778,
             "#fb9f3a"
            ],
            [
             0.8888888888888888,
             "#fdca26"
            ],
            [
             1,
             "#f0f921"
            ]
           ],
           "sequentialminus": [
            [
             0,
             "#0d0887"
            ],
            [
             0.1111111111111111,
             "#46039f"
            ],
            [
             0.2222222222222222,
             "#7201a8"
            ],
            [
             0.3333333333333333,
             "#9c179e"
            ],
            [
             0.4444444444444444,
             "#bd3786"
            ],
            [
             0.5555555555555556,
             "#d8576b"
            ],
            [
             0.6666666666666666,
             "#ed7953"
            ],
            [
             0.7777777777777778,
             "#fb9f3a"
            ],
            [
             0.8888888888888888,
             "#fdca26"
            ],
            [
             1,
             "#f0f921"
            ]
           ]
          },
          "colorway": [
           "#636efa",
           "#EF553B",
           "#00cc96",
           "#ab63fa",
           "#FFA15A",
           "#19d3f3",
           "#FF6692",
           "#B6E880",
           "#FF97FF",
           "#FECB52"
          ],
          "font": {
           "color": "#2a3f5f"
          },
          "geo": {
           "bgcolor": "white",
           "lakecolor": "white",
           "landcolor": "white",
           "showlakes": true,
           "showland": true,
           "subunitcolor": "#C8D4E3"
          },
          "hoverlabel": {
           "align": "left"
          },
          "hovermode": "closest",
          "mapbox": {
           "style": "light"
          },
          "paper_bgcolor": "white",
          "plot_bgcolor": "white",
          "polar": {
           "angularaxis": {
            "gridcolor": "#EBF0F8",
            "linecolor": "#EBF0F8",
            "ticks": ""
           },
           "bgcolor": "white",
           "radialaxis": {
            "gridcolor": "#EBF0F8",
            "linecolor": "#EBF0F8",
            "ticks": ""
           }
          },
          "scene": {
           "xaxis": {
            "backgroundcolor": "white",
            "gridcolor": "#DFE8F3",
            "gridwidth": 2,
            "linecolor": "#EBF0F8",
            "showbackground": true,
            "ticks": "",
            "zerolinecolor": "#EBF0F8"
           },
           "yaxis": {
            "backgroundcolor": "white",
            "gridcolor": "#DFE8F3",
            "gridwidth": 2,
            "linecolor": "#EBF0F8",
            "showbackground": true,
            "ticks": "",
            "zerolinecolor": "#EBF0F8"
           },
           "zaxis": {
            "backgroundcolor": "white",
            "gridcolor": "#DFE8F3",
            "gridwidth": 2,
            "linecolor": "#EBF0F8",
            "showbackground": true,
            "ticks": "",
            "zerolinecolor": "#EBF0F8"
           }
          },
          "shapedefaults": {
           "line": {
            "color": "#2a3f5f"
           }
          },
          "ternary": {
           "aaxis": {
            "gridcolor": "#DFE8F3",
            "linecolor": "#A2B1C6",
            "ticks": ""
           },
           "baxis": {
            "gridcolor": "#DFE8F3",
            "linecolor": "#A2B1C6",
            "ticks": ""
           },
           "bgcolor": "white",
           "caxis": {
            "gridcolor": "#DFE8F3",
            "linecolor": "#A2B1C6",
            "ticks": ""
           }
          },
          "title": {
           "x": 0.05
          },
          "xaxis": {
           "automargin": true,
           "gridcolor": "#EBF0F8",
           "linecolor": "#EBF0F8",
           "ticks": "",
           "title": {
            "standoff": 15
           },
           "zerolinecolor": "#EBF0F8",
           "zerolinewidth": 2
          },
          "yaxis": {
           "automargin": true,
           "gridcolor": "#EBF0F8",
           "linecolor": "#EBF0F8",
           "ticks": "",
           "title": {
            "standoff": 15
           },
           "zerolinecolor": "#EBF0F8",
           "zerolinewidth": 2
          }
         }
        },
        "title": {
         "text": "Benzene Inhalation Reference Values"
        },
        "width": 1200,
        "xaxis": {
         "title": {
          "text": "Duration (Hours)"
         },
         "type": "log"
        },
        "yaxis": {
         "title": {
          "text": "Concentration mg/m3"
         },
         "type": "log"
        }
       }
      }
     },
     "metadata": {},
     "output_type": "display_data"
    }
   ],
   "source": [
    "line_positions = {\n",
    "    \"24 Hours\" : {'x': 24, \"bgcolor\":'Red'},\n",
    "    #\"30 Days\" : {'x': .3, \"bgcolor\":'Gold'},\n",
    "    #\"7 Years\" : {'x': 0.77, \"bgcolor\":'Green'},\n",
    "    #\"70 Years\" : {'x': 0.91, \"bgcolor\":'Blue'},\n",
    "    #\"Cancer Range\" : {'x': 0.99, \"bgcolor\":'Purple'},\n",
    "}\n",
    "\n",
    "annotations2 = []\n",
    "\n",
    "legend_y2 = 1.0\n",
    "legend_gap2 = 0.1\n",
    "\n",
    "\n",
    "\n",
    "for lines, props in line_positions.items():\n",
    "    annotations2.append(dict(\n",
    "        #y = 1.0, x=props[\"x\"],\n",
    "        #xref = x,\n",
    "        x = props[\"x\"], \n",
    "        #yref = 'paper',\n",
    "        text = lines,\n",
    "        showarrow = False, \n",
    "        bgcolor = props[\"bgcolor\"],\n",
    "        font = dict(color=\"White\", size =8)\n",
    "    ))\n",
    "    legend_y2 -= legend_gap2\n",
    "\n",
    "\n",
    "fig.update_layout(\n",
    "    annotations = annotations2\n",
    "\n",
    ")"
   ]
  },
  {
   "cell_type": "code",
   "execution_count": 10,
   "metadata": {},
   "outputs": [
    {
     "data": {
      "application/vnd.plotly.v1+json": {
       "config": {
        "plotlyServerURL": "https://plot.ly"
       },
       "data": [
        {
         "legendgroup": "Emergency Response",
         "mode": "lines+markers",
         "name": "AEGL-1",
         "type": "scatter",
         "x": [
          0.17,
          0.5,
          1,
          4,
          8
         ],
         "y": [
          420,
          240,
          170,
          58,
          29
         ]
        },
        {
         "legendgroup": "Emergency Response",
         "mode": "lines+markers",
         "name": "AEGL-2",
         "type": "scatter",
         "x": [
          0.17,
          0.5,
          1,
          4,
          8
         ],
         "y": [
          6500,
          3600,
          2600,
          1300,
          650
         ]
        },
        {
         "legendgroup": "Emergency Response",
         "mode": "lines+markers",
         "name": "AEGL-3",
         "type": "scatter",
         "x": [
          0.17,
          0.5,
          1,
          4,
          8
         ],
         "y": [
          31000,
          18000,
          13000,
          6500,
          3300
         ]
        },
        {
         "legendgroup": "Occupational",
         "mode": "lines+markers",
         "name": "ERPG-1",
         "type": "scatter",
         "x": [
          1
         ],
         "y": [
          156
         ]
        },
        {
         "legendgroup": "Occupational",
         "mode": "lines+markers",
         "name": "ERPG-2",
         "type": "scatter",
         "x": [
          1
         ],
         "y": [
          470
         ]
        },
        {
         "legendgroup": "Emergency Response",
         "mode": "lines+markers",
         "name": "ERPG-3",
         "type": "scatter",
         "x": [
          1
         ],
         "y": [
          3190
         ]
        },
        {
         "legendgroup": "Emergency Response",
         "mode": "lines+markers",
         "name": "PAC-1",
         "type": "scatter",
         "x": [],
         "y": []
        },
        {
         "legendgroup": "Emergency Response",
         "mode": "lines+markers",
         "name": "PAC-2",
         "type": "scatter",
         "x": [],
         "y": []
        },
        {
         "legendgroup": "Emergency Response",
         "mode": "lines+markers",
         "name": "PAC-3",
         "type": "scatter",
         "x": [],
         "y": []
        },
        {
         "legendgroup": "Occupational",
         "mode": "lines+markers",
         "name": "ACGIH-Ceiling*",
         "type": "scatter",
         "x": [],
         "y": []
        },
        {
         "legendgroup": "Occupational",
         "mode": "lines+markers",
         "name": "NIOSH-Ceiling*",
         "type": "scatter",
         "x": [],
         "y": []
        },
        {
         "legendgroup": "Occupational",
         "mode": "lines+markers",
         "name": "OSHA-Ceiling*",
         "type": "scatter",
         "x": [],
         "y": []
        },
        {
         "legendgroup": "Occupational",
         "mode": "lines+markers",
         "name": "ACGIH-STEL*",
         "type": "scatter",
         "x": [
          0.17
         ],
         "y": [
          8
         ]
        },
        {
         "legendgroup": "Occupational",
         "mode": "lines+markers",
         "name": "NIOSH-STEL*",
         "type": "scatter",
         "x": [
          0.17
         ],
         "y": [
          3.2
         ]
        },
        {
         "legendgroup": "Occupational",
         "mode": "lines+markers",
         "name": "OSHA-STEL*",
         "type": "scatter",
         "x": [
          0.17
         ],
         "y": [
          16
         ]
        },
        {
         "legendgroup": "Occupational",
         "mode": "lines+markers",
         "name": "NIOSH IDLH*",
         "type": "scatter",
         "x": [
          0.5
         ],
         "y": [
          1600
         ]
        },
        {
         "legendgroup": "Occupational",
         "mode": "lines+markers",
         "name": "ACGIH-TLV (TWA)*",
         "type": "scatter",
         "x": [
          8,
          350400
         ],
         "y": [
          1.7,
          1.7
         ]
        },
        {
         "legendgroup": "Occupational",
         "mode": "lines+markers",
         "name": "NIOSH-REL (TWA)*",
         "type": "scatter",
         "x": [
          10,
          350400
         ],
         "y": [
          0.32,
          0.32
         ]
        },
        {
         "legendgroup": "Occupational",
         "mode": "lines+markers",
         "name": "DFG-MAK (TWA)*",
         "type": "scatter",
         "x": [],
         "y": []
        },
        {
         "legendgroup": "Occupational",
         "mode": "lines+markers",
         "name": "Cal/OSHA-PEL (TWA)*",
         "type": "scatter",
         "x": [
          8,
          350400
         ],
         "y": [
          3.2,
          3.2
         ]
        },
        {
         "legendgroup": "Occupational",
         "mode": "lines+markers",
         "name": "Cal/OSHA-Ceiling*",
         "type": "scatter",
         "x": [],
         "y": []
        },
        {
         "legendgroup": "Occupational",
         "mode": "lines+markers",
         "name": "Cal/OSHA-STEL*",
         "type": "scatter",
         "x": [
          0.17
         ],
         "y": [
          16
         ]
        },
        {
         "legendgroup": "Occupational",
         "mode": "lines+markers",
         "name": "OSHA-PEL (TWA)*",
         "type": "scatter",
         "x": [
          8,
          350400
         ],
         "y": [
          3.2
         ]
        },
        {
         "legendgroup": "Occupational",
         "mode": "lines+markers",
         "name": "MEG-C",
         "type": "scatter",
         "x": [
          1
         ],
         "y": [
          13000
         ]
        },
        {
         "legendgroup": "Occupational",
         "mode": "lines+markers",
         "name": "MEG-M",
         "type": "scatter",
         "x": [
          1
         ],
         "y": [
          2600
         ]
        },
        {
         "legendgroup": "Occupational",
         "mode": "lines+markers",
         "name": "MEG-N",
         "type": "scatter",
         "x": [
          1,
          8,
          336,
          8736
         ],
         "y": [
          170,
          29,
          0.64,
          0.055
         ]
        },
        {
         "legendgroup": "Occupational",
         "mode": "lines+markers",
         "name": "EEGL",
         "type": "scatter",
         "x": [
          1,
          24
         ],
         "y": [
          128,
          9.6
         ]
        },
        {
         "legendgroup": "Occupational",
         "mode": "lines+markers",
         "name": "CEGL",
         "type": "scatter",
         "x": [
          2160
         ],
         "y": [
          0.64
         ]
        },
        {
         "legendgroup": "Occupational",
         "mode": "lines+markers",
         "name": "SMAC",
         "type": "scatter",
         "x": [
          1,
          24,
          168,
          720,
          4320,
          24000
         ],
         "y": [
          32,
          9.6,
          1.6,
          0.32,
          0.22,
          0.04
         ]
        },
        {
         "legendgroup": "General Public",
         "mode": "lines+markers",
         "name": "CA-REL (1 hr)",
         "type": "scatter",
         "x": [
          1
         ],
         "y": [
          0.027
         ]
        },
        {
         "legendgroup": "General Public",
         "mode": "lines+markers",
         "name": "CA-REL (8 hr)",
         "type": "scatter",
         "x": [
          8
         ],
         "y": [
          0.003
         ]
        },
        {
         "legendgroup": "General Public",
         "mode": "lines+markers",
         "name": "ATSDR-MRL (1-14 d)",
         "type": "scatter",
         "x": [
          24,
          336
         ],
         "y": [
          0.029,
          0.029
         ]
        },
        {
         "legendgroup": "General Public",
         "mode": "lines+markers",
         "name": "ATSDR-MRL (15-365 d)",
         "type": "scatter",
         "x": [
          336,
          8736
         ],
         "y": [
          0.019,
          0.019
         ]
        },
        {
         "legendgroup": "General Public",
         "mode": "lines+markers",
         "name": "PPRTV p-RfC (Subchronic)",
         "type": "scatter",
         "x": [
          720,
          61320
         ],
         "y": [
          0.08,
          0.08
         ]
        },
        {
         "legendgroup": "General Public",
         "mode": "lines+markers",
         "name": "CA-REL (Chronic)",
         "type": "scatter",
         "x": [
          61320,
          613200
         ],
         "y": [
          0.003,
          0.003
         ]
        },
        {
         "legendgroup": "General Public",
         "mode": "lines+markers",
         "name": "ATSDR-MRL (> 1yr)",
         "type": "scatter",
         "x": [
          8736,
          613200
         ],
         "y": [
          0.0096,
          0.0096
         ]
        },
        {
         "legendgroup": "General Public",
         "mode": "lines+markers",
         "name": "TX-ReV (1 hr)",
         "type": "scatter",
         "x": [
          1
         ],
         "y": [
          0.58
         ]
        },
        {
         "legendgroup": "General Public",
         "mode": "lines+markers",
         "name": "TX-ReV (24 hr)",
         "type": "scatter",
         "x": [
          24
         ],
         "y": [
          0.32
         ]
        },
        {
         "legendgroup": "General Public",
         "mode": "lines+markers",
         "name": "TX-ReV (Chronic)",
         "type": "scatter",
         "x": [
          61320,
          613200
         ],
         "y": [
          0.28,
          0.28
         ]
        },
        {
         "legendgroup": "General Public",
         "mode": "lines+markers",
         "name": "MDH HRV",
         "type": "scatter",
         "x": [],
         "y": []
        },
        {
         "legendgroup": "General Public",
         "mode": "lines+markers",
         "name": "MDH HBV (24 hr)",
         "type": "scatter",
         "x": [
          24
         ],
         "y": [
          0.03
         ]
        },
        {
         "legendgroup": "General Public",
         "mode": "lines+markers",
         "name": "MDH HBV (Short-term)",
         "type": "scatter",
         "x": [
          24,
          720
         ],
         "y": [
          0.01,
          0.01
         ]
        },
        {
         "legendgroup": "General Public",
         "mode": "lines+markers",
         "name": "MDH HBV (Subchronic)",
         "type": "scatter",
         "x": [
          720,
          61320
         ],
         "y": [
          0.008,
          0.008
         ]
        },
        {
         "legendgroup": "General Public",
         "mode": "lines+markers",
         "name": "MDH HBV (Chronic)",
         "type": "scatter",
         "x": [
          61320,
          613200
         ],
         "y": [
          0.003,
          0.003
         ]
        },
        {
         "legendgroup": "General Public",
         "mode": "lines+markers",
         "name": "MDH HBV (Cancer)",
         "type": "scatter",
         "x": [
          675000
         ],
         "y": [
          0.0008
         ]
        },
        {
         "legendgroup": "General Public",
         "mode": "lines+markers",
         "name": "Health Canada TC",
         "type": "scatter",
         "x": [],
         "y": []
        },
        {
         "legendgroup": "General Public",
         "mode": "lines+markers",
         "name": "RIVM CR",
         "type": "scatter",
         "x": [
          675000
         ],
         "y": [
          0.02
         ]
        },
        {
         "legendgroup": "General Public",
         "mode": "lines+markers",
         "name": "EPA IRIS RfC",
         "type": "scatter",
         "x": [
          61320,
          613200
         ],
         "y": [
          0.03,
          0.03
         ]
        },
        {
         "legendgroup": "General Public",
         "mode": "lines+markers",
         "name": "WHO Air Quality Guideline",
         "type": "scatter",
         "x": [],
         "y": []
        },
        {
         "legendgroup": "General Public",
         "mode": "lines+markers",
         "name": "State Value 1",
         "type": "scatter",
         "x": [
          0.5,
          1,
          8,
          24,
          8736,
          675000
         ],
         "y": [
          0.75,
          0.03,
          0.15,
          0.02,
          0.00012,
          0.00036
         ]
        },
        {
         "legendgroup": "General Public",
         "mode": "lines+markers",
         "name": "State Value 2",
         "type": "scatter",
         "x": [
          24,
          8736
         ],
         "y": [
          0.0006,
          0.0001
         ]
        },
        {
         "legendgroup": "General Public",
         "mode": "lines+markers",
         "name": "State Average",
         "type": "scatter",
         "x": [
          0.5,
          1,
          8,
          24,
          8736,
          675000
         ],
         "y": [
          0.75,
          0.03,
          0.15,
          0.0103,
          0.0001125,
          0.00036
         ]
        },
        {
         "legendgroup": "General Public",
         "mode": "lines+markers",
         "name": "State Min.",
         "type": "scatter",
         "x": [
          0.5,
          1,
          8,
          24,
          8736,
          675000
         ],
         "y": [
          0.75,
          0.03,
          0.15,
          0.0006,
          0.0001,
          0.00036
         ]
        },
        {
         "legendgroup": "General Public",
         "mode": "lines+markers",
         "name": "State Max.",
         "type": "scatter",
         "x": [
          0.5,
          1,
          8,
          24,
          8736,
          675000
         ],
         "y": [
          0.75,
          0.03,
          0.15,
          0.02,
          0.00013,
          0.00036
         ]
        },
        {
         "legendgroup": "General Public",
         "mode": "lines+markers",
         "name": "Low Value",
         "type": "scatter",
         "x": [
          24,
          8736
         ],
         "y": [
          0.0097,
          0.000012499999999999992
         ]
        },
        {
         "legendgroup": "General Public",
         "mode": "lines+markers",
         "name": "High Value",
         "type": "scatter",
         "x": [
          24,
          8736
         ],
         "y": [
          0.0097,
          0.00001749999999999999
         ]
        },
        {
         "legendgroup": "General Public",
         "mode": "lines+markers",
         "name": "OEHHA Cancer Range",
         "type": "scatter",
         "x": [
          945000,
          945000
         ],
         "y": [
          0.00003448275862068965,
          0.0034137931034482756
         ]
        },
        {
         "legendgroup": "General Public",
         "mode": "lines+markers",
         "name": "Upper EPA Cancer Range",
         "type": "scatter",
         "x": [
          675000,
          675000
         ],
         "y": [
          0.0004545454545454545,
          0.04499999999999999
         ]
        },
        {
         "legendgroup": "General Public",
         "mode": "lines+markers",
         "name": "Lower EPA Cancer Range",
         "type": "scatter",
         "x": [
          750000,
          750000
         ],
         "y": [
          0.0001282051282051282,
          0.012692307692307692
         ]
        },
        {
         "legendgroup": "General Public",
         "mode": "lines+markers",
         "name": "Health Canada Cancer Range",
         "type": "scatter",
         "x": [
          845000,
          845000
         ],
         "y": [
          0.0000625,
          0.0061875
         ]
        }
       ],
       "layout": {
        "annotations": [
         {
          "bgcolor": "Red",
          "font": {
           "color": "White",
           "size": 8
          },
          "showarrow": false,
          "text": "24 Hours",
          "x": 24
         }
        ],
        "height": 1000,
        "legend": {
         "font": {
          "color": "Grey",
          "size": 8
         },
         "tracegroupgap": 5
        },
        "shapes": [
         {
          "line": {
           "color": "black",
           "width": 1
          },
          "type": "line",
          "x0": 24,
          "x1": 24,
          "xref": "x",
          "y0": 0.00001,
          "y1": 150000,
          "yref": "y"
         },
         {
          "line": {
           "color": "black",
           "width": 1
          },
          "type": "line",
          "x0": 720,
          "x1": 720,
          "xref": "x",
          "y0": 0.00001,
          "y1": 150000,
          "yref": "y"
         },
         {
          "line": {
           "color": "black",
           "width": 1
          },
          "type": "line",
          "x0": 61320,
          "x1": 61320,
          "xref": "x",
          "y0": 0.00001,
          "y1": 150000,
          "yref": "y"
         },
         {
          "line": {
           "color": "black",
           "width": 1
          },
          "type": "line",
          "x0": 613200,
          "x1": 613200,
          "xref": "x",
          "y0": 0.00001,
          "y1": 150000,
          "yref": "y"
         },
         {
          "line": {
           "color": "black",
           "width": 1
          },
          "type": "line",
          "x0": 675000,
          "x1": 675000,
          "xref": "x",
          "y0": 0.00001,
          "y1": 150000,
          "yref": "y"
         }
        ],
        "template": {
         "data": {
          "bar": [
           {
            "error_x": {
             "color": "#2a3f5f"
            },
            "error_y": {
             "color": "#2a3f5f"
            },
            "marker": {
             "line": {
              "color": "white",
              "width": 0.5
             },
             "pattern": {
              "fillmode": "overlay",
              "size": 10,
              "solidity": 0.2
             }
            },
            "type": "bar"
           }
          ],
          "barpolar": [
           {
            "marker": {
             "line": {
              "color": "white",
              "width": 0.5
             },
             "pattern": {
              "fillmode": "overlay",
              "size": 10,
              "solidity": 0.2
             }
            },
            "type": "barpolar"
           }
          ],
          "carpet": [
           {
            "aaxis": {
             "endlinecolor": "#2a3f5f",
             "gridcolor": "#C8D4E3",
             "linecolor": "#C8D4E3",
             "minorgridcolor": "#C8D4E3",
             "startlinecolor": "#2a3f5f"
            },
            "baxis": {
             "endlinecolor": "#2a3f5f",
             "gridcolor": "#C8D4E3",
             "linecolor": "#C8D4E3",
             "minorgridcolor": "#C8D4E3",
             "startlinecolor": "#2a3f5f"
            },
            "type": "carpet"
           }
          ],
          "choropleth": [
           {
            "colorbar": {
             "outlinewidth": 0,
             "ticks": ""
            },
            "type": "choropleth"
           }
          ],
          "contour": [
           {
            "colorbar": {
             "outlinewidth": 0,
             "ticks": ""
            },
            "colorscale": [
             [
              0,
              "#0d0887"
             ],
             [
              0.1111111111111111,
              "#46039f"
             ],
             [
              0.2222222222222222,
              "#7201a8"
             ],
             [
              0.3333333333333333,
              "#9c179e"
             ],
             [
              0.4444444444444444,
              "#bd3786"
             ],
             [
              0.5555555555555556,
              "#d8576b"
             ],
             [
              0.6666666666666666,
              "#ed7953"
             ],
             [
              0.7777777777777778,
              "#fb9f3a"
             ],
             [
              0.8888888888888888,
              "#fdca26"
             ],
             [
              1,
              "#f0f921"
             ]
            ],
            "type": "contour"
           }
          ],
          "contourcarpet": [
           {
            "colorbar": {
             "outlinewidth": 0,
             "ticks": ""
            },
            "type": "contourcarpet"
           }
          ],
          "heatmap": [
           {
            "colorbar": {
             "outlinewidth": 0,
             "ticks": ""
            },
            "colorscale": [
             [
              0,
              "#0d0887"
             ],
             [
              0.1111111111111111,
              "#46039f"
             ],
             [
              0.2222222222222222,
              "#7201a8"
             ],
             [
              0.3333333333333333,
              "#9c179e"
             ],
             [
              0.4444444444444444,
              "#bd3786"
             ],
             [
              0.5555555555555556,
              "#d8576b"
             ],
             [
              0.6666666666666666,
              "#ed7953"
             ],
             [
              0.7777777777777778,
              "#fb9f3a"
             ],
             [
              0.8888888888888888,
              "#fdca26"
             ],
             [
              1,
              "#f0f921"
             ]
            ],
            "type": "heatmap"
           }
          ],
          "heatmapgl": [
           {
            "colorbar": {
             "outlinewidth": 0,
             "ticks": ""
            },
            "colorscale": [
             [
              0,
              "#0d0887"
             ],
             [
              0.1111111111111111,
              "#46039f"
             ],
             [
              0.2222222222222222,
              "#7201a8"
             ],
             [
              0.3333333333333333,
              "#9c179e"
             ],
             [
              0.4444444444444444,
              "#bd3786"
             ],
             [
              0.5555555555555556,
              "#d8576b"
             ],
             [
              0.6666666666666666,
              "#ed7953"
             ],
             [
              0.7777777777777778,
              "#fb9f3a"
             ],
             [
              0.8888888888888888,
              "#fdca26"
             ],
             [
              1,
              "#f0f921"
             ]
            ],
            "type": "heatmapgl"
           }
          ],
          "histogram": [
           {
            "marker": {
             "pattern": {
              "fillmode": "overlay",
              "size": 10,
              "solidity": 0.2
             }
            },
            "type": "histogram"
           }
          ],
          "histogram2d": [
           {
            "colorbar": {
             "outlinewidth": 0,
             "ticks": ""
            },
            "colorscale": [
             [
              0,
              "#0d0887"
             ],
             [
              0.1111111111111111,
              "#46039f"
             ],
             [
              0.2222222222222222,
              "#7201a8"
             ],
             [
              0.3333333333333333,
              "#9c179e"
             ],
             [
              0.4444444444444444,
              "#bd3786"
             ],
             [
              0.5555555555555556,
              "#d8576b"
             ],
             [
              0.6666666666666666,
              "#ed7953"
             ],
             [
              0.7777777777777778,
              "#fb9f3a"
             ],
             [
              0.8888888888888888,
              "#fdca26"
             ],
             [
              1,
              "#f0f921"
             ]
            ],
            "type": "histogram2d"
           }
          ],
          "histogram2dcontour": [
           {
            "colorbar": {
             "outlinewidth": 0,
             "ticks": ""
            },
            "colorscale": [
             [
              0,
              "#0d0887"
             ],
             [
              0.1111111111111111,
              "#46039f"
             ],
             [
              0.2222222222222222,
              "#7201a8"
             ],
             [
              0.3333333333333333,
              "#9c179e"
             ],
             [
              0.4444444444444444,
              "#bd3786"
             ],
             [
              0.5555555555555556,
              "#d8576b"
             ],
             [
              0.6666666666666666,
              "#ed7953"
             ],
             [
              0.7777777777777778,
              "#fb9f3a"
             ],
             [
              0.8888888888888888,
              "#fdca26"
             ],
             [
              1,
              "#f0f921"
             ]
            ],
            "type": "histogram2dcontour"
           }
          ],
          "mesh3d": [
           {
            "colorbar": {
             "outlinewidth": 0,
             "ticks": ""
            },
            "type": "mesh3d"
           }
          ],
          "parcoords": [
           {
            "line": {
             "colorbar": {
              "outlinewidth": 0,
              "ticks": ""
             }
            },
            "type": "parcoords"
           }
          ],
          "pie": [
           {
            "automargin": true,
            "type": "pie"
           }
          ],
          "scatter": [
           {
            "fillpattern": {
             "fillmode": "overlay",
             "size": 10,
             "solidity": 0.2
            },
            "type": "scatter"
           }
          ],
          "scatter3d": [
           {
            "line": {
             "colorbar": {
              "outlinewidth": 0,
              "ticks": ""
             }
            },
            "marker": {
             "colorbar": {
              "outlinewidth": 0,
              "ticks": ""
             }
            },
            "type": "scatter3d"
           }
          ],
          "scattercarpet": [
           {
            "marker": {
             "colorbar": {
              "outlinewidth": 0,
              "ticks": ""
             }
            },
            "type": "scattercarpet"
           }
          ],
          "scattergeo": [
           {
            "marker": {
             "colorbar": {
              "outlinewidth": 0,
              "ticks": ""
             }
            },
            "type": "scattergeo"
           }
          ],
          "scattergl": [
           {
            "marker": {
             "colorbar": {
              "outlinewidth": 0,
              "ticks": ""
             }
            },
            "type": "scattergl"
           }
          ],
          "scattermapbox": [
           {
            "marker": {
             "colorbar": {
              "outlinewidth": 0,
              "ticks": ""
             }
            },
            "type": "scattermapbox"
           }
          ],
          "scatterpolar": [
           {
            "marker": {
             "colorbar": {
              "outlinewidth": 0,
              "ticks": ""
             }
            },
            "type": "scatterpolar"
           }
          ],
          "scatterpolargl": [
           {
            "marker": {
             "colorbar": {
              "outlinewidth": 0,
              "ticks": ""
             }
            },
            "type": "scatterpolargl"
           }
          ],
          "scatterternary": [
           {
            "marker": {
             "colorbar": {
              "outlinewidth": 0,
              "ticks": ""
             }
            },
            "type": "scatterternary"
           }
          ],
          "surface": [
           {
            "colorbar": {
             "outlinewidth": 0,
             "ticks": ""
            },
            "colorscale": [
             [
              0,
              "#0d0887"
             ],
             [
              0.1111111111111111,
              "#46039f"
             ],
             [
              0.2222222222222222,
              "#7201a8"
             ],
             [
              0.3333333333333333,
              "#9c179e"
             ],
             [
              0.4444444444444444,
              "#bd3786"
             ],
             [
              0.5555555555555556,
              "#d8576b"
             ],
             [
              0.6666666666666666,
              "#ed7953"
             ],
             [
              0.7777777777777778,
              "#fb9f3a"
             ],
             [
              0.8888888888888888,
              "#fdca26"
             ],
             [
              1,
              "#f0f921"
             ]
            ],
            "type": "surface"
           }
          ],
          "table": [
           {
            "cells": {
             "fill": {
              "color": "#EBF0F8"
             },
             "line": {
              "color": "white"
             }
            },
            "header": {
             "fill": {
              "color": "#C8D4E3"
             },
             "line": {
              "color": "white"
             }
            },
            "type": "table"
           }
          ]
         },
         "layout": {
          "annotationdefaults": {
           "arrowcolor": "#2a3f5f",
           "arrowhead": 0,
           "arrowwidth": 1
          },
          "autotypenumbers": "strict",
          "coloraxis": {
           "colorbar": {
            "outlinewidth": 0,
            "ticks": ""
           }
          },
          "colorscale": {
           "diverging": [
            [
             0,
             "#8e0152"
            ],
            [
             0.1,
             "#c51b7d"
            ],
            [
             0.2,
             "#de77ae"
            ],
            [
             0.3,
             "#f1b6da"
            ],
            [
             0.4,
             "#fde0ef"
            ],
            [
             0.5,
             "#f7f7f7"
            ],
            [
             0.6,
             "#e6f5d0"
            ],
            [
             0.7,
             "#b8e186"
            ],
            [
             0.8,
             "#7fbc41"
            ],
            [
             0.9,
             "#4d9221"
            ],
            [
             1,
             "#276419"
            ]
           ],
           "sequential": [
            [
             0,
             "#0d0887"
            ],
            [
             0.1111111111111111,
             "#46039f"
            ],
            [
             0.2222222222222222,
             "#7201a8"
            ],
            [
             0.3333333333333333,
             "#9c179e"
            ],
            [
             0.4444444444444444,
             "#bd3786"
            ],
            [
             0.5555555555555556,
             "#d8576b"
            ],
            [
             0.6666666666666666,
             "#ed7953"
            ],
            [
             0.7777777777777778,
             "#fb9f3a"
            ],
            [
             0.8888888888888888,
             "#fdca26"
            ],
            [
             1,
             "#f0f921"
            ]
           ],
           "sequentialminus": [
            [
             0,
             "#0d0887"
            ],
            [
             0.1111111111111111,
             "#46039f"
            ],
            [
             0.2222222222222222,
             "#7201a8"
            ],
            [
             0.3333333333333333,
             "#9c179e"
            ],
            [
             0.4444444444444444,
             "#bd3786"
            ],
            [
             0.5555555555555556,
             "#d8576b"
            ],
            [
             0.6666666666666666,
             "#ed7953"
            ],
            [
             0.7777777777777778,
             "#fb9f3a"
            ],
            [
             0.8888888888888888,
             "#fdca26"
            ],
            [
             1,
             "#f0f921"
            ]
           ]
          },
          "colorway": [
           "#636efa",
           "#EF553B",
           "#00cc96",
           "#ab63fa",
           "#FFA15A",
           "#19d3f3",
           "#FF6692",
           "#B6E880",
           "#FF97FF",
           "#FECB52"
          ],
          "font": {
           "color": "#2a3f5f"
          },
          "geo": {
           "bgcolor": "white",
           "lakecolor": "white",
           "landcolor": "white",
           "showlakes": true,
           "showland": true,
           "subunitcolor": "#C8D4E3"
          },
          "hoverlabel": {
           "align": "left"
          },
          "hovermode": "closest",
          "mapbox": {
           "style": "light"
          },
          "paper_bgcolor": "white",
          "plot_bgcolor": "white",
          "polar": {
           "angularaxis": {
            "gridcolor": "#EBF0F8",
            "linecolor": "#EBF0F8",
            "ticks": ""
           },
           "bgcolor": "white",
           "radialaxis": {
            "gridcolor": "#EBF0F8",
            "linecolor": "#EBF0F8",
            "ticks": ""
           }
          },
          "scene": {
           "xaxis": {
            "backgroundcolor": "white",
            "gridcolor": "#DFE8F3",
            "gridwidth": 2,
            "linecolor": "#EBF0F8",
            "showbackground": true,
            "ticks": "",
            "zerolinecolor": "#EBF0F8"
           },
           "yaxis": {
            "backgroundcolor": "white",
            "gridcolor": "#DFE8F3",
            "gridwidth": 2,
            "linecolor": "#EBF0F8",
            "showbackground": true,
            "ticks": "",
            "zerolinecolor": "#EBF0F8"
           },
           "zaxis": {
            "backgroundcolor": "white",
            "gridcolor": "#DFE8F3",
            "gridwidth": 2,
            "linecolor": "#EBF0F8",
            "showbackground": true,
            "ticks": "",
            "zerolinecolor": "#EBF0F8"
           }
          },
          "shapedefaults": {
           "line": {
            "color": "#2a3f5f"
           }
          },
          "ternary": {
           "aaxis": {
            "gridcolor": "#DFE8F3",
            "linecolor": "#A2B1C6",
            "ticks": ""
           },
           "baxis": {
            "gridcolor": "#DFE8F3",
            "linecolor": "#A2B1C6",
            "ticks": ""
           },
           "bgcolor": "white",
           "caxis": {
            "gridcolor": "#DFE8F3",
            "linecolor": "#A2B1C6",
            "ticks": ""
           }
          },
          "title": {
           "x": 0.05
          },
          "xaxis": {
           "automargin": true,
           "gridcolor": "#EBF0F8",
           "linecolor": "#EBF0F8",
           "ticks": "",
           "title": {
            "standoff": 15
           },
           "zerolinecolor": "#EBF0F8",
           "zerolinewidth": 2
          },
          "yaxis": {
           "automargin": true,
           "gridcolor": "#EBF0F8",
           "linecolor": "#EBF0F8",
           "ticks": "",
           "title": {
            "standoff": 15
           },
           "zerolinecolor": "#EBF0F8",
           "zerolinewidth": 2
          }
         }
        },
        "title": {
         "text": "Benzene Inhalation Reference Values"
        },
        "width": 1200,
        "xaxis": {
         "title": {
          "text": "Duration (Hours)"
         },
         "type": "log"
        },
        "yaxis": {
         "title": {
          "text": "Concentration mg/m3"
         },
         "type": "log"
        }
       }
      }
     },
     "metadata": {},
     "output_type": "display_data"
    }
   ],
   "source": [
    "fig.show()"
   ]
  },
  {
   "cell_type": "code",
   "execution_count": 11,
   "metadata": {},
   "outputs": [
    {
     "data": {
      "text/plain": [
       "'\\n    legend = dict(\\n        title = \"Reference Values\",\\n        orientation = \"h\",\\n        x=0,\\n        y=-0.2,\\n        traceorder=\"normal\",\\n        font=dict(\\n            size=10\\n        )\\n    )\\n'"
      ]
     },
     "execution_count": 11,
     "metadata": {},
     "output_type": "execute_result"
    }
   ],
   "source": [
    "\"\"\"\n",
    "    legend = dict(\n",
    "        title = \"Reference Values\",\n",
    "        orientation = \"h\",\n",
    "        x=0,\n",
    "        y=-0.2,\n",
    "        traceorder=\"normal\",\n",
    "        font=dict(\n",
    "            size=10\n",
    "        )\n",
    "    )\n",
    "\"\"\""
   ]
  },
  {
   "cell_type": "code",
   "execution_count": 12,
   "metadata": {},
   "outputs": [
    {
     "data": {
      "text/plain": [
       "'\\nlegend_positions = {\\n    \"Emergency Response\" : \\'Red\\',\\n    \"Occupational\" : \\'Gold\\',\\n    \"General Public\" : \\'Green\\',\\n}\\n'"
      ]
     },
     "execution_count": 12,
     "metadata": {},
     "output_type": "execute_result"
    }
   ],
   "source": [
    "\"\"\"\n",
    "legend_positions = {\n",
    "    \"Emergency Response\" : 'Red',\n",
    "    \"Occupational\" : 'Gold',\n",
    "    \"General Public\" : 'Green',\n",
    "}\n",
    "\"\"\""
   ]
  }
 ],
 "metadata": {
  "kernelspec": {
   "display_name": "Python 3",
   "language": "python",
   "name": "python3"
  },
  "language_info": {
   "codemirror_mode": {
    "name": "ipython",
    "version": 3
   },
   "file_extension": ".py",
   "mimetype": "text/x-python",
   "name": "python",
   "nbconvert_exporter": "python",
   "pygments_lexer": "ipython3",
   "version": "3.12.2"
  }
 },
 "nbformat": 4,
 "nbformat_minor": 2
}
