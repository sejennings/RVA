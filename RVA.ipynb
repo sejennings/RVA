{
 "cells": [
  {
   "cell_type": "code",
   "execution_count": 112,
   "metadata": {},
   "outputs": [],
   "source": [
    "# Package import\n",
    "import pandas as pd\n",
    "import plotly.graph_objects as go\n",
    "from pathlib import Path"
   ]
  },
  {
   "cell_type": "code",
   "execution_count": 113,
   "metadata": {},
   "outputs": [
    {
     "data": {
      "text/html": [
       "<div>\n",
       "<style scoped>\n",
       "    .dataframe tbody tr th:only-of-type {\n",
       "        vertical-align: middle;\n",
       "    }\n",
       "\n",
       "    .dataframe tbody tr th {\n",
       "        vertical-align: top;\n",
       "    }\n",
       "\n",
       "    .dataframe thead th {\n",
       "        text-align: right;\n",
       "    }\n",
       "</style>\n",
       "<table border=\"1\" class=\"dataframe\">\n",
       "  <thead>\n",
       "    <tr style=\"text-align: right;\">\n",
       "      <th></th>\n",
       "      <th>RefValue</th>\n",
       "      <th>Value1</th>\n",
       "      <th>Duration1</th>\n",
       "      <th>Value2</th>\n",
       "      <th>Duration2</th>\n",
       "      <th>Value3</th>\n",
       "      <th>Duration3</th>\n",
       "      <th>Value4</th>\n",
       "      <th>Duration4</th>\n",
       "      <th>Value5</th>\n",
       "      <th>Duration5</th>\n",
       "      <th>Value6</th>\n",
       "      <th>Duration6</th>\n",
       "      <th>Type</th>\n",
       "      <th>Shape</th>\n",
       "      <th>MarkColor</th>\n",
       "      <th>LineDash</th>\n",
       "      <th>Outline</th>\n",
       "      <th>CatColor</th>\n",
       "    </tr>\n",
       "  </thead>\n",
       "  <tbody>\n",
       "    <tr>\n",
       "      <th>0</th>\n",
       "      <td>AEGL-1</td>\n",
       "      <td>420.0</td>\n",
       "      <td>0.17</td>\n",
       "      <td>240.0</td>\n",
       "      <td>0.5</td>\n",
       "      <td>170.0</td>\n",
       "      <td>1.0</td>\n",
       "      <td>58.0</td>\n",
       "      <td>4.0</td>\n",
       "      <td>29.0</td>\n",
       "      <td>8.0</td>\n",
       "      <td>NaN</td>\n",
       "      <td>NaN</td>\n",
       "      <td>Emergency Response</td>\n",
       "      <td>Diamond</td>\n",
       "      <td>Blue</td>\n",
       "      <td>Solid</td>\n",
       "      <td>Yes</td>\n",
       "      <td>Red</td>\n",
       "    </tr>\n",
       "    <tr>\n",
       "      <th>1</th>\n",
       "      <td>AEGL-2</td>\n",
       "      <td>6500.0</td>\n",
       "      <td>0.17</td>\n",
       "      <td>3600.0</td>\n",
       "      <td>0.5</td>\n",
       "      <td>2600.0</td>\n",
       "      <td>1.0</td>\n",
       "      <td>1300.0</td>\n",
       "      <td>4.0</td>\n",
       "      <td>650.0</td>\n",
       "      <td>8.0</td>\n",
       "      <td>NaN</td>\n",
       "      <td>NaN</td>\n",
       "      <td>Emergency Response</td>\n",
       "      <td>Diamond</td>\n",
       "      <td>Gold</td>\n",
       "      <td>Solid</td>\n",
       "      <td>Yes</td>\n",
       "      <td>Red</td>\n",
       "    </tr>\n",
       "    <tr>\n",
       "      <th>2</th>\n",
       "      <td>AEGL-3</td>\n",
       "      <td>31000.0</td>\n",
       "      <td>0.17</td>\n",
       "      <td>18000.0</td>\n",
       "      <td>0.5</td>\n",
       "      <td>13000.0</td>\n",
       "      <td>1.0</td>\n",
       "      <td>6500.0</td>\n",
       "      <td>4.0</td>\n",
       "      <td>3300.0</td>\n",
       "      <td>8.0</td>\n",
       "      <td>NaN</td>\n",
       "      <td>NaN</td>\n",
       "      <td>Emergency Response</td>\n",
       "      <td>Diamond</td>\n",
       "      <td>Red</td>\n",
       "      <td>Solid</td>\n",
       "      <td>Yes</td>\n",
       "      <td>Red</td>\n",
       "    </tr>\n",
       "    <tr>\n",
       "      <th>3</th>\n",
       "      <td>ERPG-1</td>\n",
       "      <td>156.0</td>\n",
       "      <td>1.00</td>\n",
       "      <td>NaN</td>\n",
       "      <td>NaN</td>\n",
       "      <td>NaN</td>\n",
       "      <td>NaN</td>\n",
       "      <td>NaN</td>\n",
       "      <td>NaN</td>\n",
       "      <td>NaN</td>\n",
       "      <td>NaN</td>\n",
       "      <td>NaN</td>\n",
       "      <td>NaN</td>\n",
       "      <td>Emergency Response</td>\n",
       "      <td>Triangle</td>\n",
       "      <td>Red</td>\n",
       "      <td>NaN</td>\n",
       "      <td>Yes</td>\n",
       "      <td>Red</td>\n",
       "    </tr>\n",
       "    <tr>\n",
       "      <th>4</th>\n",
       "      <td>ERPG-2</td>\n",
       "      <td>470.0</td>\n",
       "      <td>1.00</td>\n",
       "      <td>NaN</td>\n",
       "      <td>NaN</td>\n",
       "      <td>NaN</td>\n",
       "      <td>NaN</td>\n",
       "      <td>NaN</td>\n",
       "      <td>NaN</td>\n",
       "      <td>NaN</td>\n",
       "      <td>NaN</td>\n",
       "      <td>NaN</td>\n",
       "      <td>NaN</td>\n",
       "      <td>Emergency Response</td>\n",
       "      <td>Triangle</td>\n",
       "      <td>Gold</td>\n",
       "      <td>NaN</td>\n",
       "      <td>Yes</td>\n",
       "      <td>Red</td>\n",
       "    </tr>\n",
       "    <tr>\n",
       "      <th>5</th>\n",
       "      <td>ERPG-3</td>\n",
       "      <td>3190.0</td>\n",
       "      <td>1.00</td>\n",
       "      <td>NaN</td>\n",
       "      <td>NaN</td>\n",
       "      <td>NaN</td>\n",
       "      <td>NaN</td>\n",
       "      <td>NaN</td>\n",
       "      <td>NaN</td>\n",
       "      <td>NaN</td>\n",
       "      <td>NaN</td>\n",
       "      <td>NaN</td>\n",
       "      <td>NaN</td>\n",
       "      <td>Emergency Response</td>\n",
       "      <td>Triangle</td>\n",
       "      <td>Blue</td>\n",
       "      <td>NaN</td>\n",
       "      <td>Yes</td>\n",
       "      <td>Red</td>\n",
       "    </tr>\n",
       "    <tr>\n",
       "      <th>6</th>\n",
       "      <td>PAC-1</td>\n",
       "      <td>NaN</td>\n",
       "      <td>NaN</td>\n",
       "      <td>NaN</td>\n",
       "      <td>NaN</td>\n",
       "      <td>NaN</td>\n",
       "      <td>NaN</td>\n",
       "      <td>NaN</td>\n",
       "      <td>NaN</td>\n",
       "      <td>NaN</td>\n",
       "      <td>NaN</td>\n",
       "      <td>NaN</td>\n",
       "      <td>NaN</td>\n",
       "      <td>Emergency Response</td>\n",
       "      <td>Diamond</td>\n",
       "      <td>Red</td>\n",
       "      <td>NaN</td>\n",
       "      <td>Yes</td>\n",
       "      <td>Red</td>\n",
       "    </tr>\n",
       "    <tr>\n",
       "      <th>7</th>\n",
       "      <td>PAC-2</td>\n",
       "      <td>NaN</td>\n",
       "      <td>NaN</td>\n",
       "      <td>NaN</td>\n",
       "      <td>NaN</td>\n",
       "      <td>NaN</td>\n",
       "      <td>NaN</td>\n",
       "      <td>NaN</td>\n",
       "      <td>NaN</td>\n",
       "      <td>NaN</td>\n",
       "      <td>NaN</td>\n",
       "      <td>NaN</td>\n",
       "      <td>NaN</td>\n",
       "      <td>Emergency Response</td>\n",
       "      <td>Diamond</td>\n",
       "      <td>Gold</td>\n",
       "      <td>NaN</td>\n",
       "      <td>Yes</td>\n",
       "      <td>Red</td>\n",
       "    </tr>\n",
       "    <tr>\n",
       "      <th>8</th>\n",
       "      <td>PAC-3</td>\n",
       "      <td>NaN</td>\n",
       "      <td>NaN</td>\n",
       "      <td>NaN</td>\n",
       "      <td>NaN</td>\n",
       "      <td>NaN</td>\n",
       "      <td>NaN</td>\n",
       "      <td>NaN</td>\n",
       "      <td>NaN</td>\n",
       "      <td>NaN</td>\n",
       "      <td>NaN</td>\n",
       "      <td>NaN</td>\n",
       "      <td>NaN</td>\n",
       "      <td>Emergency Response</td>\n",
       "      <td>Diamond</td>\n",
       "      <td>Blue</td>\n",
       "      <td>NaN</td>\n",
       "      <td>Yes</td>\n",
       "      <td>Red</td>\n",
       "    </tr>\n",
       "    <tr>\n",
       "      <th>9</th>\n",
       "      <td>ACGIH-Ceiling*</td>\n",
       "      <td>NaN</td>\n",
       "      <td>NaN</td>\n",
       "      <td>NaN</td>\n",
       "      <td>NaN</td>\n",
       "      <td>NaN</td>\n",
       "      <td>NaN</td>\n",
       "      <td>NaN</td>\n",
       "      <td>NaN</td>\n",
       "      <td>NaN</td>\n",
       "      <td>NaN</td>\n",
       "      <td>NaN</td>\n",
       "      <td>NaN</td>\n",
       "      <td>Occupational</td>\n",
       "      <td>Circle</td>\n",
       "      <td>Red</td>\n",
       "      <td>NaN</td>\n",
       "      <td>Yes</td>\n",
       "      <td>Orange</td>\n",
       "    </tr>\n",
       "  </tbody>\n",
       "</table>\n",
       "</div>"
      ],
      "text/plain": [
       "         RefValue   Value1  Duration1   Value2  Duration2   Value3  Duration3  \\\n",
       "0          AEGL-1    420.0       0.17    240.0        0.5    170.0        1.0   \n",
       "1          AEGL-2   6500.0       0.17   3600.0        0.5   2600.0        1.0   \n",
       "2          AEGL-3  31000.0       0.17  18000.0        0.5  13000.0        1.0   \n",
       "3          ERPG-1    156.0       1.00      NaN        NaN      NaN        NaN   \n",
       "4          ERPG-2    470.0       1.00      NaN        NaN      NaN        NaN   \n",
       "5          ERPG-3   3190.0       1.00      NaN        NaN      NaN        NaN   \n",
       "6           PAC-1      NaN        NaN      NaN        NaN      NaN        NaN   \n",
       "7           PAC-2      NaN        NaN      NaN        NaN      NaN        NaN   \n",
       "8           PAC-3      NaN        NaN      NaN        NaN      NaN        NaN   \n",
       "9  ACGIH-Ceiling*      NaN        NaN      NaN        NaN      NaN        NaN   \n",
       "\n",
       "   Value4  Duration4  Value5  Duration5  Value6  Duration6  \\\n",
       "0    58.0        4.0    29.0        8.0     NaN        NaN   \n",
       "1  1300.0        4.0   650.0        8.0     NaN        NaN   \n",
       "2  6500.0        4.0  3300.0        8.0     NaN        NaN   \n",
       "3     NaN        NaN     NaN        NaN     NaN        NaN   \n",
       "4     NaN        NaN     NaN        NaN     NaN        NaN   \n",
       "5     NaN        NaN     NaN        NaN     NaN        NaN   \n",
       "6     NaN        NaN     NaN        NaN     NaN        NaN   \n",
       "7     NaN        NaN     NaN        NaN     NaN        NaN   \n",
       "8     NaN        NaN     NaN        NaN     NaN        NaN   \n",
       "9     NaN        NaN     NaN        NaN     NaN        NaN   \n",
       "\n",
       "                 Type     Shape MarkColor LineDash Outline CatColor  \n",
       "0  Emergency Response   Diamond      Blue    Solid     Yes      Red  \n",
       "1  Emergency Response   Diamond      Gold    Solid     Yes      Red  \n",
       "2  Emergency Response   Diamond       Red    Solid     Yes      Red  \n",
       "3  Emergency Response  Triangle       Red      NaN     Yes      Red  \n",
       "4  Emergency Response  Triangle      Gold      NaN     Yes      Red  \n",
       "5  Emergency Response  Triangle      Blue      NaN     Yes      Red  \n",
       "6  Emergency Response   Diamond       Red      NaN     Yes      Red  \n",
       "7  Emergency Response   Diamond      Gold      NaN     Yes      Red  \n",
       "8  Emergency Response   Diamond      Blue      NaN     Yes      Red  \n",
       "9        Occupational    Circle       Red      NaN     Yes   Orange  "
      ]
     },
     "execution_count": 113,
     "metadata": {},
     "output_type": "execute_result"
    }
   ],
   "source": [
    "# Data import and reading/assignation of values\n",
    "\n",
    "file_path = Path('DataRefValue.xlsx')\n",
    "\n",
    "data = pd.read_excel(file_path, sheet_name= 'Sheet1')\n",
    "\n",
    "ref_values = data['RefValue']\n",
    "\n",
    "value_columns = ['Value1', 'Value2', 'Value3', 'Value4', 'Value5', 'Value6'] \n",
    "\n",
    "#data = data.dropna(subset=value_columns, how='all')\n",
    "\n",
    "#ref_values = data['RefValue']\n",
    "time_periods = ['Duration1', 'Duration2', 'Duration3', 'Duration4', 'Duration5', 'Duration6']\n",
    "#Evalue_columns = ['Value1', 'Value2', 'Value3', 'Value4', 'Value5', 'Value6'] \n",
    "\n",
    "valid_ref_values = data.loc[~data['Value1'].isna(), 'RefValue']\n",
    "\n",
    "value_types = ['Emergency Response', 'Occupational', 'General Public']\n",
    "\n",
    "data = data.loc[:, ~data.columns.str.contains('^Unnamed')]\n",
    "\n",
    "data.head(10)"
   ]
  },
  {
   "cell_type": "code",
   "execution_count": 114,
   "metadata": {},
   "outputs": [
    {
     "data": {
      "application/vnd.plotly.v1+json": {
       "config": {
        "plotlyServerURL": "https://plot.ly"
       },
       "data": [
        {
         "customdata": [
          "AEGL-1",
          "AEGL-1",
          "AEGL-1",
          "AEGL-1",
          "AEGL-1"
         ],
         "hoverlabel": {
          "bgcolor": "white",
          "font": {
           "color": "black",
           "family": "Rockwell",
           "size": 16
          }
         },
         "hovertemplate": "<b>%{customdata}</b><br>x: %{x}<br>y: %{y}<extra></extra>",
         "legendgroup": "Emergency Response",
         "line": {
          "dash": "solid"
         },
         "marker": {
          "color": "#0085AA",
          "line": {
           "color": "black",
           "width": 1
          },
          "size": 8,
          "symbol": "diamond"
         },
         "mode": "lines+markers",
         "name": "AEGL-1",
         "type": "scatter",
         "x": [
          0.17,
          0.5,
          1,
          4,
          8
         ],
         "y": [
          420,
          240,
          170,
          58,
          29
         ]
        },
        {
         "customdata": [
          "AEGL-2",
          "AEGL-2",
          "AEGL-2",
          "AEGL-2",
          "AEGL-2"
         ],
         "hoverlabel": {
          "bgcolor": "white",
          "font": {
           "color": "black",
           "family": "Rockwell",
           "size": 16
          }
         },
         "hovertemplate": "<b>%{customdata}</b><br>x: %{x}<br>y: %{y}<extra></extra>",
         "legendgroup": "Emergency Response",
         "line": {
          "dash": "solid"
         },
         "marker": {
          "color": "gold",
          "line": {
           "color": "black",
           "width": 1
          },
          "size": 8,
          "symbol": "diamond"
         },
         "mode": "lines+markers",
         "name": "AEGL-2",
         "type": "scatter",
         "x": [
          0.17,
          0.5,
          1,
          4,
          8
         ],
         "y": [
          6500,
          3600,
          2600,
          1300,
          650
         ]
        },
        {
         "customdata": [
          "AEGL-3",
          "AEGL-3",
          "AEGL-3",
          "AEGL-3",
          "AEGL-3"
         ],
         "hoverlabel": {
          "bgcolor": "white",
          "font": {
           "color": "black",
           "family": "Rockwell",
           "size": 16
          }
         },
         "hovertemplate": "<b>%{customdata}</b><br>x: %{x}<br>y: %{y}<extra></extra>",
         "legendgroup": "Emergency Response",
         "line": {
          "dash": "solid"
         },
         "marker": {
          "color": "red",
          "line": {
           "color": "black",
           "width": 1
          },
          "size": 8,
          "symbol": "diamond"
         },
         "mode": "lines+markers",
         "name": "AEGL-3",
         "type": "scatter",
         "x": [
          0.17,
          0.5,
          1,
          4,
          8
         ],
         "y": [
          31000,
          18000,
          13000,
          6500,
          3300
         ]
        },
        {
         "customdata": [
          "ERPG-1"
         ],
         "hoverlabel": {
          "bgcolor": "white",
          "font": {
           "color": "black",
           "family": "Rockwell",
           "size": 16
          }
         },
         "hovertemplate": "<b>%{customdata}</b><br>x: %{x}<br>y: %{y}<extra></extra>",
         "legendgroup": "Emergency Response",
         "line": {
          "dash": "solid"
         },
         "marker": {
          "color": "red",
          "line": {
           "color": "black",
           "width": 1
          },
          "size": 8,
          "symbol": "triangle-up"
         },
         "mode": "lines+markers",
         "name": "ERPG-1",
         "type": "scatter",
         "x": [
          1
         ],
         "y": [
          156
         ]
        },
        {
         "customdata": [
          "ERPG-2"
         ],
         "hoverlabel": {
          "bgcolor": "white",
          "font": {
           "color": "black",
           "family": "Rockwell",
           "size": 16
          }
         },
         "hovertemplate": "<b>%{customdata}</b><br>x: %{x}<br>y: %{y}<extra></extra>",
         "legendgroup": "Emergency Response",
         "line": {
          "dash": "solid"
         },
         "marker": {
          "color": "gold",
          "line": {
           "color": "black",
           "width": 1
          },
          "size": 8,
          "symbol": "triangle-up"
         },
         "mode": "lines+markers",
         "name": "ERPG-2",
         "type": "scatter",
         "x": [
          1
         ],
         "y": [
          470
         ]
        },
        {
         "customdata": [
          "ERPG-3"
         ],
         "hoverlabel": {
          "bgcolor": "white",
          "font": {
           "color": "black",
           "family": "Rockwell",
           "size": 16
          }
         },
         "hovertemplate": "<b>%{customdata}</b><br>x: %{x}<br>y: %{y}<extra></extra>",
         "legendgroup": "Emergency Response",
         "line": {
          "dash": "solid"
         },
         "marker": {
          "color": "#0085AA",
          "line": {
           "color": "black",
           "width": 1
          },
          "size": 8,
          "symbol": "triangle-up"
         },
         "mode": "lines+markers",
         "name": "ERPG-3",
         "type": "scatter",
         "x": [
          1
         ],
         "y": [
          3190
         ]
        },
        {
         "customdata": [],
         "hoverlabel": {
          "bgcolor": "white",
          "font": {
           "color": "black",
           "family": "Rockwell",
           "size": 16
          }
         },
         "hovertemplate": "<b>%{customdata}</b><br>x: %{x}<br>y: %{y}<extra></extra>",
         "legendgroup": "Emergency Response",
         "line": {
          "dash": "solid"
         },
         "marker": {
          "color": "red",
          "line": {
           "color": "black",
           "width": 1
          },
          "size": 8,
          "symbol": "diamond"
         },
         "mode": "lines+markers",
         "name": "PAC-1",
         "type": "scatter",
         "x": [],
         "y": []
        },
        {
         "customdata": [],
         "hoverlabel": {
          "bgcolor": "white",
          "font": {
           "color": "black",
           "family": "Rockwell",
           "size": 16
          }
         },
         "hovertemplate": "<b>%{customdata}</b><br>x: %{x}<br>y: %{y}<extra></extra>",
         "legendgroup": "Emergency Response",
         "line": {
          "dash": "solid"
         },
         "marker": {
          "color": "gold",
          "line": {
           "color": "black",
           "width": 1
          },
          "size": 8,
          "symbol": "diamond"
         },
         "mode": "lines+markers",
         "name": "PAC-2",
         "type": "scatter",
         "x": [],
         "y": []
        },
        {
         "customdata": [],
         "hoverlabel": {
          "bgcolor": "white",
          "font": {
           "color": "black",
           "family": "Rockwell",
           "size": 16
          }
         },
         "hovertemplate": "<b>%{customdata}</b><br>x: %{x}<br>y: %{y}<extra></extra>",
         "legendgroup": "Emergency Response",
         "line": {
          "dash": "solid"
         },
         "marker": {
          "color": "#0085AA",
          "line": {
           "color": "black",
           "width": 1
          },
          "size": 8,
          "symbol": "diamond"
         },
         "mode": "lines+markers",
         "name": "PAC-3",
         "type": "scatter",
         "x": [],
         "y": []
        },
        {
         "customdata": [],
         "hoverlabel": {
          "bgcolor": "white",
          "font": {
           "color": "black",
           "family": "Rockwell",
           "size": 16
          }
         },
         "hovertemplate": "<b>%{customdata}</b><br>x: %{x}<br>y: %{y}<extra></extra>",
         "legendgroup": "Occupational",
         "line": {
          "dash": "solid"
         },
         "marker": {
          "color": "red",
          "line": {
           "color": "black",
           "width": 1
          },
          "size": 8,
          "symbol": "circle"
         },
         "mode": "lines+markers",
         "name": "ACGIH-Ceiling*",
         "type": "scatter",
         "x": [],
         "y": []
        },
        {
         "customdata": [],
         "hoverlabel": {
          "bgcolor": "white",
          "font": {
           "color": "black",
           "family": "Rockwell",
           "size": 16
          }
         },
         "hovertemplate": "<b>%{customdata}</b><br>x: %{x}<br>y: %{y}<extra></extra>",
         "legendgroup": "Occupational",
         "line": {
          "dash": "solid"
         },
         "marker": {
          "color": "orange",
          "line": {
           "color": "black",
           "width": 1
          },
          "size": 8,
          "symbol": "circle"
         },
         "mode": "lines+markers",
         "name": "NIOSH-Ceiling*",
         "type": "scatter",
         "x": [],
         "y": []
        },
        {
         "customdata": [],
         "hoverlabel": {
          "bgcolor": "white",
          "font": {
           "color": "black",
           "family": "Rockwell",
           "size": 16
          }
         },
         "hovertemplate": "<b>%{customdata}</b><br>x: %{x}<br>y: %{y}<extra></extra>",
         "legendgroup": "Occupational",
         "line": {
          "dash": "solid"
         },
         "marker": {
          "color": "yellow",
          "line": {
           "color": "black",
           "width": 1
          },
          "size": 8,
          "symbol": "circle"
         },
         "mode": "lines+markers",
         "name": "OSHA-Ceiling*",
         "type": "scatter",
         "x": [],
         "y": []
        },
        {
         "customdata": [
          "ACGIH-STEL*"
         ],
         "hoverlabel": {
          "bgcolor": "white",
          "font": {
           "color": "black",
           "family": "Rockwell",
           "size": 16
          }
         },
         "hovertemplate": "<b>%{customdata}</b><br>x: %{x}<br>y: %{y}<extra></extra>",
         "legendgroup": "Occupational",
         "line": {
          "dash": "solid"
         },
         "marker": {
          "color": "yellow",
          "line": {
           "color": "black",
           "width": 1
          },
          "size": 8,
          "symbol": "circle"
         },
         "mode": "lines+markers",
         "name": "ACGIH-STEL*",
         "type": "scatter",
         "x": [
          0.17
         ],
         "y": [
          8
         ]
        },
        {
         "customdata": [
          "NIOSH-STEL*"
         ],
         "hoverlabel": {
          "bgcolor": "white",
          "font": {
           "color": "black",
           "family": "Rockwell",
           "size": 16
          }
         },
         "hovertemplate": "<b>%{customdata}</b><br>x: %{x}<br>y: %{y}<extra></extra>",
         "legendgroup": "Occupational",
         "line": {
          "dash": "solid"
         },
         "marker": {
          "color": "orange",
          "line": {
           "color": "black",
           "width": 1
          },
          "size": 8,
          "symbol": "circle"
         },
         "mode": "lines+markers",
         "name": "NIOSH-STEL*",
         "type": "scatter",
         "x": [
          0.17
         ],
         "y": [
          3.2
         ]
        },
        {
         "customdata": [
          "OSHA-STEL*"
         ],
         "hoverlabel": {
          "bgcolor": "white",
          "font": {
           "color": "black",
           "family": "Rockwell",
           "size": 16
          }
         },
         "hovertemplate": "<b>%{customdata}</b><br>x: %{x}<br>y: %{y}<extra></extra>",
         "legendgroup": "Occupational",
         "line": {
          "dash": "solid"
         },
         "marker": {
          "color": "#FFDAB9",
          "line": {
           "color": "black",
           "width": 1
          },
          "size": 8,
          "symbol": "circle"
         },
         "mode": "lines+markers",
         "name": "OSHA-STEL*",
         "type": "scatter",
         "x": [
          0.17
         ],
         "y": [
          16
         ]
        },
        {
         "customdata": [
          "NIOSH IDLH*"
         ],
         "hoverlabel": {
          "bgcolor": "white",
          "font": {
           "color": "black",
           "family": "Rockwell",
           "size": 16
          }
         },
         "hovertemplate": "<b>%{customdata}</b><br>x: %{x}<br>y: %{y}<extra></extra>",
         "legendgroup": "Occupational",
         "line": {
          "dash": "solid"
         },
         "marker": {
          "color": "red",
          "line": {
           "color": "black",
           "width": 1
          },
          "size": 8,
          "symbol": "circle"
         },
         "mode": "lines+markers",
         "name": "NIOSH IDLH*",
         "type": "scatter",
         "x": [
          0.5
         ],
         "y": [
          1600
         ]
        },
        {
         "customdata": [
          "ACGIH-TLV (TWA)*",
          "ACGIH-TLV (TWA)*"
         ],
         "hoverlabel": {
          "bgcolor": "white",
          "font": {
           "color": "black",
           "family": "Rockwell",
           "size": 16
          }
         },
         "hovertemplate": "<b>%{customdata}</b><br>x: %{x}<br>y: %{y}<extra></extra>",
         "legendgroup": "Occupational",
         "line": {
          "dash": "dashdot"
         },
         "marker": {
          "color": "yellow",
          "line": {
           "color": "black",
           "width": 1
          },
          "size": 8,
          "symbol": "circle"
         },
         "mode": "lines+markers",
         "name": "ACGIH-TLV (TWA)*",
         "type": "scatter",
         "x": [
          8,
          350400
         ],
         "y": [
          1.7,
          1.7
         ]
        },
        {
         "customdata": [
          "NIOSH-REL (TWA)*",
          "NIOSH-REL (TWA)*"
         ],
         "hoverlabel": {
          "bgcolor": "white",
          "font": {
           "color": "black",
           "family": "Rockwell",
           "size": 16
          }
         },
         "hovertemplate": "<b>%{customdata}</b><br>x: %{x}<br>y: %{y}<extra></extra>",
         "legendgroup": "Occupational",
         "line": {
          "dash": "solid"
         },
         "marker": {
          "color": "orange",
          "line": {
           "color": "black",
           "width": 1
          },
          "size": 8,
          "symbol": "circle"
         },
         "mode": "lines+markers",
         "name": "NIOSH-REL (TWA)*",
         "type": "scatter",
         "x": [
          10,
          350400
         ],
         "y": [
          0.32,
          0.32
         ]
        },
        {
         "customdata": [],
         "hoverlabel": {
          "bgcolor": "white",
          "font": {
           "color": "black",
           "family": "Rockwell",
           "size": 16
          }
         },
         "hovertemplate": "<b>%{customdata}</b><br>x: %{x}<br>y: %{y}<extra></extra>",
         "legendgroup": "Occupational",
         "line": {
          "dash": "dot"
         },
         "marker": {
          "color": "#F5F5DC",
          "line": {
           "color": "black",
           "width": 1
          },
          "size": 8,
          "symbol": "circle"
         },
         "mode": "lines+markers",
         "name": "DFG-MAK (TWA)*",
         "type": "scatter",
         "x": [],
         "y": []
        },
        {
         "customdata": [
          "Cal/OSHA-PEL (TWA)*",
          "Cal/OSHA-PEL (TWA)*"
         ],
         "hoverlabel": {
          "bgcolor": "white",
          "font": {
           "color": "black",
           "family": "Rockwell",
           "size": 16
          }
         },
         "hovertemplate": "<b>%{customdata}</b><br>x: %{x}<br>y: %{y}<extra></extra>",
         "legendgroup": "Occupational",
         "line": {
          "dash": "dash"
         },
         "marker": {
          "color": "#F5F5DC",
          "line": {
           "color": "black",
           "width": 1
          },
          "size": 8,
          "symbol": "circle"
         },
         "mode": "lines+markers",
         "name": "Cal/OSHA-PEL (TWA)*",
         "type": "scatter",
         "x": [
          8,
          350400
         ],
         "y": [
          3.2,
          3.2
         ]
        },
        {
         "customdata": [],
         "hoverlabel": {
          "bgcolor": "white",
          "font": {
           "color": "black",
           "family": "Rockwell",
           "size": 16
          }
         },
         "hovertemplate": "<b>%{customdata}</b><br>x: %{x}<br>y: %{y}<extra></extra>",
         "legendgroup": "Occupational",
         "line": {
          "dash": "solid"
         },
         "marker": {
          "color": "#F5F5DC",
          "line": {
           "color": "black",
           "width": 1
          },
          "size": 8,
          "symbol": "circle"
         },
         "mode": "lines+markers",
         "name": "Cal/OSHA-Ceiling*",
         "type": "scatter",
         "x": [],
         "y": []
        },
        {
         "customdata": [
          "Cal/OSHA-STEL*"
         ],
         "hoverlabel": {
          "bgcolor": "white",
          "font": {
           "color": "black",
           "family": "Rockwell",
           "size": 16
          }
         },
         "hovertemplate": "<b>%{customdata}</b><br>x: %{x}<br>y: %{y}<extra></extra>",
         "legendgroup": "Occupational",
         "line": {
          "dash": "solid"
         },
         "marker": {
          "color": "#FFDAB9",
          "line": {
           "color": "black",
           "width": 1
          },
          "size": 8,
          "symbol": "circle"
         },
         "mode": "lines+markers",
         "name": "Cal/OSHA-STEL*",
         "type": "scatter",
         "x": [
          0.17
         ],
         "y": [
          16
         ]
        },
        {
         "customdata": [
          "OSHA-PEL (TWA)*",
          "OSHA-PEL (TWA)*"
         ],
         "hoverlabel": {
          "bgcolor": "white",
          "font": {
           "color": "black",
           "family": "Rockwell",
           "size": 16
          }
         },
         "hovertemplate": "<b>%{customdata}</b><br>x: %{x}<br>y: %{y}<extra></extra>",
         "legendgroup": "Occupational",
         "line": {
          "dash": "dash"
         },
         "marker": {
          "color": "orange",
          "line": {
           "color": "black",
           "width": 1
          },
          "size": 8,
          "symbol": "circle"
         },
         "mode": "lines+markers",
         "name": "OSHA-PEL (TWA)*",
         "type": "scatter",
         "x": [
          8,
          350400
         ],
         "y": [
          3.2
         ]
        },
        {
         "customdata": [
          "MEG-C"
         ],
         "hoverlabel": {
          "bgcolor": "white",
          "font": {
           "color": "black",
           "family": "Rockwell",
           "size": 16
          }
         },
         "hovertemplate": "<b>%{customdata}</b><br>x: %{x}<br>y: %{y}<extra></extra>",
         "legendgroup": "Occupational",
         "line": {
          "dash": "solid"
         },
         "marker": {
          "color": "red",
          "line": {
           "color": "black",
           "width": 0
          },
          "size": 8,
          "symbol": "circle-open"
         },
         "mode": "lines+markers",
         "name": "MEG-C",
         "type": "scatter",
         "x": [
          1
         ],
         "y": [
          13000
         ]
        },
        {
         "customdata": [
          "MEG-M"
         ],
         "hoverlabel": {
          "bgcolor": "white",
          "font": {
           "color": "black",
           "family": "Rockwell",
           "size": 16
          }
         },
         "hovertemplate": "<b>%{customdata}</b><br>x: %{x}<br>y: %{y}<extra></extra>",
         "legendgroup": "Occupational",
         "line": {
          "dash": "solid"
         },
         "marker": {
          "color": "gold",
          "line": {
           "color": "black",
           "width": 0
          },
          "size": 8,
          "symbol": "circle-open"
         },
         "mode": "lines+markers",
         "name": "MEG-M",
         "type": "scatter",
         "x": [
          1
         ],
         "y": [
          2600
         ]
        },
        {
         "customdata": [
          "MEG-N",
          "MEG-N",
          "MEG-N",
          "MEG-N"
         ],
         "hoverlabel": {
          "bgcolor": "white",
          "font": {
           "color": "black",
           "family": "Rockwell",
           "size": 16
          }
         },
         "hovertemplate": "<b>%{customdata}</b><br>x: %{x}<br>y: %{y}<extra></extra>",
         "legendgroup": "Occupational",
         "line": {
          "dash": "solid"
         },
         "marker": {
          "color": "#0085AA",
          "line": {
           "color": "black",
           "width": 0
          },
          "size": 8,
          "symbol": "circle-open"
         },
         "mode": "lines+markers",
         "name": "MEG-N",
         "type": "scatter",
         "x": [
          1,
          8,
          336,
          8736
         ],
         "y": [
          170,
          29,
          0.64,
          0.055
         ]
        },
        {
         "customdata": [
          "EEGL",
          "EEGL"
         ],
         "hoverlabel": {
          "bgcolor": "white",
          "font": {
           "color": "black",
           "family": "Rockwell",
           "size": 16
          }
         },
         "hovertemplate": "<b>%{customdata}</b><br>x: %{x}<br>y: %{y}<extra></extra>",
         "legendgroup": "Occupational",
         "line": {
          "dash": "solid"
         },
         "marker": {
          "color": "white",
          "line": {
           "color": "black",
           "width": 1
          },
          "size": 8,
          "symbol": "diamond"
         },
         "mode": "lines+markers",
         "name": "EEGL",
         "type": "scatter",
         "x": [
          1,
          24
         ],
         "y": [
          128,
          9.6
         ]
        },
        {
         "customdata": [
          "CEGL"
         ],
         "hoverlabel": {
          "bgcolor": "white",
          "font": {
           "color": "black",
           "family": "Rockwell",
           "size": 16
          }
         },
         "hovertemplate": "<b>%{customdata}</b><br>x: %{x}<br>y: %{y}<extra></extra>",
         "legendgroup": "Occupational",
         "line": {
          "dash": "solid"
         },
         "marker": {
          "color": "pink",
          "line": {
           "color": "black",
           "width": 1
          },
          "size": 8,
          "symbol": "diamond"
         },
         "mode": "lines+markers",
         "name": "CEGL",
         "type": "scatter",
         "x": [
          2160
         ],
         "y": [
          0.64
         ]
        },
        {
         "customdata": [
          "SMAC",
          "SMAC",
          "SMAC",
          "SMAC",
          "SMAC",
          "SMAC"
         ],
         "hoverlabel": {
          "bgcolor": "white",
          "font": {
           "color": "black",
           "family": "Rockwell",
           "size": 16
          }
         },
         "hovertemplate": "<b>%{customdata}</b><br>x: %{x}<br>y: %{y}<extra></extra>",
         "legendgroup": "Occupational",
         "line": {
          "dash": "solid"
         },
         "marker": {
          "color": "#0085AA",
          "line": {
           "color": "black",
           "width": 1
          },
          "size": 8,
          "symbol": "diamond"
         },
         "mode": "lines+markers",
         "name": "SMAC",
         "type": "scatter",
         "x": [
          1,
          24,
          168,
          720,
          4320,
          24000
         ],
         "y": [
          32,
          9.6,
          1.6,
          0.32,
          0.22,
          0.04
         ]
        },
        {
         "customdata": [
          "CA-REL (1 hr)"
         ],
         "hoverlabel": {
          "bgcolor": "white",
          "font": {
           "color": "black",
           "family": "Rockwell",
           "size": 16
          }
         },
         "hovertemplate": "<b>%{customdata}</b><br>x: %{x}<br>y: %{y}<extra></extra>",
         "legendgroup": "General Public",
         "line": {
          "dash": "solid"
         },
         "marker": {
          "color": "#90EE90",
          "line": {
           "color": "black",
           "width": 0
          },
          "size": 8,
          "symbol": "square"
         },
         "mode": "lines+markers",
         "name": "CA-REL (1 hr)",
         "type": "scatter",
         "x": [
          1
         ],
         "y": [
          0.027
         ]
        },
        {
         "customdata": [
          "CA-REL (8 hr)"
         ],
         "hoverlabel": {
          "bgcolor": "white",
          "font": {
           "color": "black",
           "family": "Rockwell",
           "size": 16
          }
         },
         "hovertemplate": "<b>%{customdata}</b><br>x: %{x}<br>y: %{y}<extra></extra>",
         "legendgroup": "General Public",
         "line": {
          "dash": "solid"
         },
         "marker": {
          "color": "#90EE90",
          "line": {
           "color": "black",
           "width": 0
          },
          "size": 8,
          "symbol": "square"
         },
         "mode": "lines+markers",
         "name": "CA-REL (8 hr)",
         "type": "scatter",
         "x": [
          8
         ],
         "y": [
          0.003
         ]
        },
        {
         "customdata": [
          "ATSDR-MRL (1-14 d)",
          "ATSDR-MRL (1-14 d)"
         ],
         "hoverlabel": {
          "bgcolor": "white",
          "font": {
           "color": "black",
           "family": "Rockwell",
           "size": 16
          }
         },
         "hovertemplate": "<b>%{customdata}</b><br>x: %{x}<br>y: %{y}<extra></extra>",
         "legendgroup": "General Public",
         "line": {
          "dash": "dash"
         },
         "marker": {
          "color": "#90EE90",
          "line": {
           "color": "black",
           "width": 0
          },
          "size": 8,
          "symbol": "square"
         },
         "mode": "lines+markers",
         "name": "ATSDR-MRL (1-14 d)",
         "type": "scatter",
         "x": [
          24,
          336
         ],
         "y": [
          0.029,
          0.029
         ]
        },
        {
         "customdata": [
          "ATSDR-MRL (15-365 d)",
          "ATSDR-MRL (15-365 d)"
         ],
         "hoverlabel": {
          "bgcolor": "white",
          "font": {
           "color": "black",
           "family": "Rockwell",
           "size": 16
          }
         },
         "hovertemplate": "<b>%{customdata}</b><br>x: %{x}<br>y: %{y}<extra></extra>",
         "legendgroup": "General Public",
         "line": {
          "dash": "dash"
         },
         "marker": {
          "color": "#90EE90",
          "line": {
           "color": "black",
           "width": 0
          },
          "size": 8,
          "symbol": "square"
         },
         "mode": "lines+markers",
         "name": "ATSDR-MRL (15-365 d)",
         "type": "scatter",
         "x": [
          336,
          8736
         ],
         "y": [
          0.019,
          0.019
         ]
        },
        {
         "customdata": [
          "PPRTV p-RfC (Subchronic)",
          "PPRTV p-RfC (Subchronic)"
         ],
         "hoverlabel": {
          "bgcolor": "white",
          "font": {
           "color": "black",
           "family": "Rockwell",
           "size": 16
          }
         },
         "hovertemplate": "<b>%{customdata}</b><br>x: %{x}<br>y: %{y}<extra></extra>",
         "legendgroup": "General Public",
         "line": {
          "dash": "solid"
         },
         "marker": {
          "color": "#008700",
          "line": {
           "color": "black",
           "width": 1
          },
          "size": 8,
          "symbol": "square"
         },
         "mode": "lines+markers",
         "name": "PPRTV p-RfC (Subchronic)",
         "type": "scatter",
         "x": [
          720,
          61320
         ],
         "y": [
          0.08,
          0.08
         ]
        },
        {
         "customdata": [
          "CA-REL (Chronic)",
          "CA-REL (Chronic)"
         ],
         "hoverlabel": {
          "bgcolor": "white",
          "font": {
           "color": "black",
           "family": "Rockwell",
           "size": 16
          }
         },
         "hovertemplate": "<b>%{customdata}</b><br>x: %{x}<br>y: %{y}<extra></extra>",
         "legendgroup": "General Public",
         "line": {
          "dash": "solid"
         },
         "marker": {
          "color": "#008700",
          "line": {
           "color": "black",
           "width": 1
          },
          "size": 8,
          "symbol": "square"
         },
         "mode": "lines+markers",
         "name": "CA-REL (Chronic)",
         "type": "scatter",
         "x": [
          61320,
          613200
         ],
         "y": [
          0.003,
          0.003
         ]
        },
        {
         "customdata": [
          "ATSDR-MRL (> 1yr)",
          "ATSDR-MRL (> 1yr)"
         ],
         "hoverlabel": {
          "bgcolor": "white",
          "font": {
           "color": "black",
           "family": "Rockwell",
           "size": 16
          }
         },
         "hovertemplate": "<b>%{customdata}</b><br>x: %{x}<br>y: %{y}<extra></extra>",
         "legendgroup": "General Public",
         "line": {
          "dash": "solid"
         },
         "marker": {
          "color": "#90EE90",
          "line": {
           "color": "black",
           "width": 0
          },
          "size": 8,
          "symbol": "square"
         },
         "mode": "lines+markers",
         "name": "ATSDR-MRL (> 1yr)",
         "type": "scatter",
         "x": [
          8736,
          613200
         ],
         "y": [
          0.0096,
          0.0096
         ]
        },
        {
         "customdata": [
          "TX-ReV (1 hr)"
         ],
         "hoverlabel": {
          "bgcolor": "white",
          "font": {
           "color": "black",
           "family": "Rockwell",
           "size": 16
          }
         },
         "hovertemplate": "<b>%{customdata}</b><br>x: %{x}<br>y: %{y}<extra></extra>",
         "legendgroup": "General Public",
         "line": {
          "dash": "solid"
         },
         "marker": {
          "color": "#008700",
          "line": {
           "color": "black",
           "width": 0
          },
          "size": 8,
          "symbol": "square"
         },
         "mode": "lines+markers",
         "name": "TX-ReV (1 hr)",
         "type": "scatter",
         "x": [
          1
         ],
         "y": [
          0.58
         ]
        },
        {
         "customdata": [
          "TX-ReV (24 hr)"
         ],
         "hoverlabel": {
          "bgcolor": "white",
          "font": {
           "color": "black",
           "family": "Rockwell",
           "size": 16
          }
         },
         "hovertemplate": "<b>%{customdata}</b><br>x: %{x}<br>y: %{y}<extra></extra>",
         "legendgroup": "General Public",
         "line": {
          "dash": "solid"
         },
         "marker": {
          "color": "#008700",
          "line": {
           "color": "black",
           "width": 0
          },
          "size": 8,
          "symbol": "square"
         },
         "mode": "lines+markers",
         "name": "TX-ReV (24 hr)",
         "type": "scatter",
         "x": [
          24
         ],
         "y": [
          0.32
         ]
        },
        {
         "customdata": [
          "TX-ReV (Chronic)",
          "TX-ReV (Chronic)"
         ],
         "hoverlabel": {
          "bgcolor": "white",
          "font": {
           "color": "black",
           "family": "Rockwell",
           "size": 16
          }
         },
         "hovertemplate": "<b>%{customdata}</b><br>x: %{x}<br>y: %{y}<extra></extra>",
         "legendgroup": "General Public",
         "line": {
          "dash": "solid"
         },
         "marker": {
          "color": "#008700",
          "line": {
           "color": "black",
           "width": 0
          },
          "size": 8,
          "symbol": "square"
         },
         "mode": "lines+markers",
         "name": "TX-ReV (Chronic)",
         "type": "scatter",
         "x": [
          61320,
          613200
         ],
         "y": [
          0.28,
          0.28
         ]
        },
        {
         "customdata": [],
         "hoverlabel": {
          "bgcolor": "white",
          "font": {
           "color": "black",
           "family": "Rockwell",
           "size": 16
          }
         },
         "hovertemplate": "<b>%{customdata}</b><br>x: %{x}<br>y: %{y}<extra></extra>",
         "legendgroup": "General Public",
         "line": {
          "dash": "solid"
         },
         "marker": {
          "color": "#98FB98",
          "line": {
           "color": "black",
           "width": 1
          },
          "size": 8,
          "symbol": "square"
         },
         "mode": "lines+markers",
         "name": "MDH HRV",
         "type": "scatter",
         "x": [],
         "y": []
        },
        {
         "customdata": [
          "MDH HBV (24 hr)"
         ],
         "hoverlabel": {
          "bgcolor": "white",
          "font": {
           "color": "black",
           "family": "Rockwell",
           "size": 16
          }
         },
         "hovertemplate": "<b>%{customdata}</b><br>x: %{x}<br>y: %{y}<extra></extra>",
         "legendgroup": "General Public",
         "line": {
          "dash": "solid"
         },
         "marker": {
          "color": "#98FB98",
          "line": {
           "color": "black",
           "width": 1
          },
          "size": 8,
          "symbol": "square"
         },
         "mode": "lines+markers",
         "name": "MDH HBV (24 hr)",
         "type": "scatter",
         "x": [
          24
         ],
         "y": [
          0.03
         ]
        },
        {
         "customdata": [
          "MDH HBV (Short-term)",
          "MDH HBV (Short-term)"
         ],
         "hoverlabel": {
          "bgcolor": "white",
          "font": {
           "color": "black",
           "family": "Rockwell",
           "size": 16
          }
         },
         "hovertemplate": "<b>%{customdata}</b><br>x: %{x}<br>y: %{y}<extra></extra>",
         "legendgroup": "General Public",
         "line": {
          "dash": "solid"
         },
         "marker": {
          "color": "#98FB98",
          "line": {
           "color": "black",
           "width": 1
          },
          "size": 8,
          "symbol": "square"
         },
         "mode": "lines+markers",
         "name": "MDH HBV (Short-term)",
         "type": "scatter",
         "x": [
          24,
          720
         ],
         "y": [
          0.01,
          0.01
         ]
        },
        {
         "customdata": [
          "MDH HBV (Subchronic)",
          "MDH HBV (Subchronic)"
         ],
         "hoverlabel": {
          "bgcolor": "white",
          "font": {
           "color": "black",
           "family": "Rockwell",
           "size": 16
          }
         },
         "hovertemplate": "<b>%{customdata}</b><br>x: %{x}<br>y: %{y}<extra></extra>",
         "legendgroup": "General Public",
         "line": {
          "dash": "solid"
         },
         "marker": {
          "color": "#98FB98",
          "line": {
           "color": "black",
           "width": 1
          },
          "size": 8,
          "symbol": "square"
         },
         "mode": "lines+markers",
         "name": "MDH HBV (Subchronic)",
         "type": "scatter",
         "x": [
          720,
          61320
         ],
         "y": [
          0.008,
          0.008
         ]
        },
        {
         "customdata": [
          "MDH HBV (Chronic)",
          "MDH HBV (Chronic)"
         ],
         "hoverlabel": {
          "bgcolor": "white",
          "font": {
           "color": "black",
           "family": "Rockwell",
           "size": 16
          }
         },
         "hovertemplate": "<b>%{customdata}</b><br>x: %{x}<br>y: %{y}<extra></extra>",
         "legendgroup": "General Public",
         "line": {
          "dash": "solid"
         },
         "marker": {
          "color": "#98FB98",
          "line": {
           "color": "black",
           "width": 1
          },
          "size": 8,
          "symbol": "square"
         },
         "mode": "lines+markers",
         "name": "MDH HBV (Chronic)",
         "type": "scatter",
         "x": [
          61320,
          613200
         ],
         "y": [
          0.003,
          0.003
         ]
        },
        {
         "customdata": [
          "MDH HBV (Cancer)"
         ],
         "hoverlabel": {
          "bgcolor": "white",
          "font": {
           "color": "black",
           "family": "Rockwell",
           "size": 16
          }
         },
         "hovertemplate": "<b>%{customdata}</b><br>x: %{x}<br>y: %{y}<extra></extra>",
         "legendgroup": "General Public",
         "line": {
          "dash": "solid"
         },
         "marker": {
          "color": "#008700",
          "line": {
           "color": "black",
           "width": 1
          },
          "size": 8,
          "symbol": "square"
         },
         "mode": "lines+markers",
         "name": "MDH HBV (Cancer)",
         "type": "scatter",
         "x": [
          675000
         ],
         "y": [
          0.0008
         ]
        },
        {
         "customdata": [],
         "hoverlabel": {
          "bgcolor": "white",
          "font": {
           "color": "black",
           "family": "Rockwell",
           "size": 16
          }
         },
         "hovertemplate": "<b>%{customdata}</b><br>x: %{x}<br>y: %{y}<extra></extra>",
         "legendgroup": "General Public",
         "line": {
          "dash": "dot"
         },
         "marker": {
          "color": "#008700",
          "line": {
           "color": "black",
           "width": 1
          },
          "size": 8,
          "symbol": "square"
         },
         "mode": "lines+markers",
         "name": "Health Canada TC",
         "type": "scatter",
         "x": [],
         "y": []
        },
        {
         "customdata": [
          "RIVM CR"
         ],
         "hoverlabel": {
          "bgcolor": "white",
          "font": {
           "color": "black",
           "family": "Rockwell",
           "size": 16
          }
         },
         "hovertemplate": "<b>%{customdata}</b><br>x: %{x}<br>y: %{y}<extra></extra>",
         "legendgroup": "General Public",
         "line": {
          "dash": "solid"
         },
         "marker": {
          "color": "#008700",
          "line": {
           "color": "black",
           "width": 1
          },
          "size": 8,
          "symbol": "square"
         },
         "mode": "lines+markers",
         "name": "RIVM CR",
         "type": "scatter",
         "x": [
          675000
         ],
         "y": [
          0.02
         ]
        },
        {
         "customdata": [
          "EPA IRIS RfC",
          "EPA IRIS RfC"
         ],
         "hoverlabel": {
          "bgcolor": "white",
          "font": {
           "color": "black",
           "family": "Rockwell",
           "size": 16
          }
         },
         "hovertemplate": "<b>%{customdata}</b><br>x: %{x}<br>y: %{y}<extra></extra>",
         "legendgroup": "General Public",
         "line": {
          "dash": "solid"
         },
         "marker": {
          "color": "#008700",
          "line": {
           "color": "black",
           "width": 1
          },
          "size": 8,
          "symbol": "square"
         },
         "mode": "lines+markers",
         "name": "EPA IRIS RfC",
         "type": "scatter",
         "x": [
          61320,
          613200
         ],
         "y": [
          0.03,
          0.03
         ]
        },
        {
         "customdata": [],
         "hoverlabel": {
          "bgcolor": "white",
          "font": {
           "color": "black",
           "family": "Rockwell",
           "size": 16
          }
         },
         "hovertemplate": "<b>%{customdata}</b><br>x: %{x}<br>y: %{y}<extra></extra>",
         "legendgroup": "General Public",
         "line": {
          "dash": "solid"
         },
         "marker": {
          "color": "#008700",
          "line": {
           "color": "black",
           "width": 1
          },
          "size": 8,
          "symbol": "square"
         },
         "mode": "lines+markers",
         "name": "WHO Air Quality Guideline",
         "type": "scatter",
         "x": [],
         "y": []
        },
        {
         "customdata": [
          "State Value 1",
          "State Value 1",
          "State Value 1",
          "State Value 1",
          "State Value 1",
          "State Value 1"
         ],
         "hoverlabel": {
          "bgcolor": "white",
          "font": {
           "color": "black",
           "family": "Rockwell",
           "size": 16
          }
         },
         "hovertemplate": "<b>%{customdata}</b><br>x: %{x}<br>y: %{y}<extra></extra>",
         "legendgroup": "General Public",
         "line": {
          "dash": "solid"
         },
         "marker": {
          "color": "#008700",
          "line": {
           "color": "black",
           "width": 1
          },
          "size": 8,
          "symbol": "square"
         },
         "mode": "lines+markers",
         "name": "State Value 1",
         "type": "scatter",
         "x": [
          0.5,
          1,
          8,
          24,
          8736,
          675000
         ],
         "y": [
          0.75,
          0.03,
          0.15,
          0.02,
          0.00012,
          0.00036
         ]
        },
        {
         "customdata": [
          "State Value 2",
          "State Value 2"
         ],
         "hoverlabel": {
          "bgcolor": "white",
          "font": {
           "color": "black",
           "family": "Rockwell",
           "size": 16
          }
         },
         "hovertemplate": "<b>%{customdata}</b><br>x: %{x}<br>y: %{y}<extra></extra>",
         "legendgroup": "General Public",
         "line": {
          "dash": "solid"
         },
         "marker": {
          "color": "#008700",
          "line": {
           "color": "black",
           "width": 1
          },
          "size": 8,
          "symbol": "square"
         },
         "mode": "lines+markers",
         "name": "State Value 2",
         "type": "scatter",
         "x": [
          24,
          8736
         ],
         "y": [
          0.0006,
          0.0001
         ]
        },
        {
         "customdata": [
          "State Average",
          "State Average",
          "State Average",
          "State Average",
          "State Average",
          "State Average"
         ],
         "hoverlabel": {
          "bgcolor": "white",
          "font": {
           "color": "black",
           "family": "Rockwell",
           "size": 16
          }
         },
         "hovertemplate": "<b>%{customdata}</b><br>x: %{x}<br>y: %{y}<extra></extra>",
         "legendgroup": "General Public",
         "line": {
          "dash": "solid"
         },
         "marker": {
          "color": "#008700",
          "line": {
           "color": "black",
           "width": 1
          },
          "size": 8,
          "symbol": "square"
         },
         "mode": "lines+markers",
         "name": "State Average",
         "type": "scatter",
         "x": [
          0.5,
          1,
          8,
          24,
          8736,
          675000
         ],
         "y": [
          0.75,
          0.03,
          0.15,
          0.0103,
          0.0001125,
          0.00036
         ]
        },
        {
         "customdata": [
          "State Min.",
          "State Min.",
          "State Min.",
          "State Min.",
          "State Min.",
          "State Min."
         ],
         "hoverlabel": {
          "bgcolor": "white",
          "font": {
           "color": "black",
           "family": "Rockwell",
           "size": 16
          }
         },
         "hovertemplate": "<b>%{customdata}</b><br>x: %{x}<br>y: %{y}<extra></extra>",
         "legendgroup": "General Public",
         "line": {
          "dash": "solid"
         },
         "marker": {
          "color": "#008700",
          "line": {
           "color": "black",
           "width": 1
          },
          "size": 8,
          "symbol": "square"
         },
         "mode": "lines+markers",
         "name": "State Min.",
         "type": "scatter",
         "x": [
          0.5,
          1,
          8,
          24,
          8736,
          675000
         ],
         "y": [
          0.75,
          0.03,
          0.15,
          0.0006,
          0.0001,
          0.00036
         ]
        },
        {
         "customdata": [
          "State Max.",
          "State Max.",
          "State Max.",
          "State Max.",
          "State Max.",
          "State Max."
         ],
         "hoverlabel": {
          "bgcolor": "white",
          "font": {
           "color": "black",
           "family": "Rockwell",
           "size": 16
          }
         },
         "hovertemplate": "<b>%{customdata}</b><br>x: %{x}<br>y: %{y}<extra></extra>",
         "legendgroup": "General Public",
         "line": {
          "dash": "solid"
         },
         "marker": {
          "color": "#008700",
          "line": {
           "color": "black",
           "width": 1
          },
          "size": 8,
          "symbol": "square"
         },
         "mode": "lines+markers",
         "name": "State Max.",
         "type": "scatter",
         "x": [
          0.5,
          1,
          8,
          24,
          8736,
          675000
         ],
         "y": [
          0.75,
          0.03,
          0.15,
          0.02,
          0.00013,
          0.00036
         ]
        },
        {
         "customdata": [
          "Low Value",
          "Low Value"
         ],
         "hoverlabel": {
          "bgcolor": "white",
          "font": {
           "color": "black",
           "family": "Rockwell",
           "size": 16
          }
         },
         "hovertemplate": "<b>%{customdata}</b><br>x: %{x}<br>y: %{y}<extra></extra>",
         "legendgroup": "General Public",
         "line": {
          "dash": "solid"
         },
         "marker": {
          "color": "#008700",
          "line": {
           "color": "black",
           "width": 1
          },
          "size": 8,
          "symbol": "square"
         },
         "mode": "lines+markers",
         "name": "Low Value",
         "type": "scatter",
         "x": [
          24,
          8736
         ],
         "y": [
          0.0097,
          0.000012499999999999992
         ]
        },
        {
         "customdata": [
          "High Value",
          "High Value"
         ],
         "hoverlabel": {
          "bgcolor": "white",
          "font": {
           "color": "black",
           "family": "Rockwell",
           "size": 16
          }
         },
         "hovertemplate": "<b>%{customdata}</b><br>x: %{x}<br>y: %{y}<extra></extra>",
         "legendgroup": "General Public",
         "line": {
          "dash": "solid"
         },
         "marker": {
          "color": "#90EE90",
          "line": {
           "color": "black",
           "width": 1
          },
          "size": 8,
          "symbol": "square"
         },
         "mode": "lines+markers",
         "name": "High Value",
         "type": "scatter",
         "x": [
          24,
          8736
         ],
         "y": [
          0.0097,
          0.00001749999999999999
         ]
        },
        {
         "customdata": [
          "OEHHA Cancer Range",
          "OEHHA Cancer Range"
         ],
         "hoverlabel": {
          "bgcolor": "white",
          "font": {
           "color": "black",
           "family": "Rockwell",
           "size": 16
          }
         },
         "hovertemplate": "<b>%{customdata}</b><br>x: %{x}<br>y: %{y}<extra></extra>",
         "legendgroup": "General Public",
         "line": {
          "dash": "solid"
         },
         "marker": {
          "color": "#0085AA",
          "line": {
           "color": "black",
           "width": 0
          },
          "size": 8,
          "symbol": "circle"
         },
         "mode": "lines+markers",
         "name": "OEHHA Cancer Range",
         "type": "scatter",
         "x": [
          945000,
          945000
         ],
         "y": [
          0.00003448275862068965,
          0.0034137931034482756
         ]
        },
        {
         "customdata": [
          "Upper EPA Cancer Range",
          "Upper EPA Cancer Range"
         ],
         "hoverlabel": {
          "bgcolor": "white",
          "font": {
           "color": "black",
           "family": "Rockwell",
           "size": 16
          }
         },
         "hovertemplate": "<b>%{customdata}</b><br>x: %{x}<br>y: %{y}<extra></extra>",
         "legendgroup": "General Public",
         "line": {
          "dash": "solid"
         },
         "marker": {
          "color": "gold",
          "line": {
           "color": "black",
           "width": 0
          },
          "size": 8,
          "symbol": "circle"
         },
         "mode": "lines+markers",
         "name": "Upper EPA Cancer Range",
         "type": "scatter",
         "x": [
          675000,
          675000
         ],
         "y": [
          0.0004545454545454545,
          0.04499999999999999
         ]
        },
        {
         "customdata": [
          "Lower EPA Cancer Range",
          "Lower EPA Cancer Range"
         ],
         "hoverlabel": {
          "bgcolor": "white",
          "font": {
           "color": "black",
           "family": "Rockwell",
           "size": 16
          }
         },
         "hovertemplate": "<b>%{customdata}</b><br>x: %{x}<br>y: %{y}<extra></extra>",
         "legendgroup": "General Public",
         "line": {
          "dash": "solid"
         },
         "marker": {
          "color": "#008700",
          "line": {
           "color": "black",
           "width": 0
          },
          "size": 8,
          "symbol": "circle"
         },
         "mode": "lines+markers",
         "name": "Lower EPA Cancer Range",
         "type": "scatter",
         "x": [
          750000,
          750000
         ],
         "y": [
          0.0001282051282051282,
          0.012692307692307692
         ]
        },
        {
         "customdata": [
          "Health Canada Cancer Range",
          "Health Canada Cancer Range"
         ],
         "hoverlabel": {
          "bgcolor": "white",
          "font": {
           "color": "black",
           "family": "Rockwell",
           "size": 16
          }
         },
         "hovertemplate": "<b>%{customdata}</b><br>x: %{x}<br>y: %{y}<extra></extra>",
         "legendgroup": "General Public",
         "line": {
          "dash": "solid"
         },
         "marker": {
          "color": "pink",
          "line": {
           "color": "black",
           "width": 0
          },
          "size": 8,
          "symbol": "circle"
         },
         "mode": "lines+markers",
         "name": "Health Canada Cancer Range",
         "type": "scatter",
         "x": [
          845000,
          845000
         ],
         "y": [
          0.0000625,
          0.0061875
         ]
        },
        {
         "hoverinfo": "text",
         "hoverlabel": {
          "bgcolor": "white",
          "font": {
           "color": "black"
          }
         },
         "marker": {
          "opacity": 0
         },
         "mode": "markers",
         "showlegend": false,
         "text": [
          "24 Hours"
         ],
         "type": "scatter",
         "x": [
          24
         ],
         "y": [
          1
         ]
        },
        {
         "hoverinfo": "text",
         "hoverlabel": {
          "bgcolor": "white",
          "font": {
           "color": "black"
          }
         },
         "marker": {
          "opacity": 0
         },
         "mode": "markers",
         "showlegend": false,
         "text": [
          "30 Days"
         ],
         "type": "scatter",
         "x": [
          720
         ],
         "y": [
          1
         ]
        },
        {
         "hoverinfo": "text",
         "hoverlabel": {
          "bgcolor": "white",
          "font": {
           "color": "black"
          }
         },
         "marker": {
          "opacity": 0
         },
         "mode": "markers",
         "showlegend": false,
         "text": [
          "7 years"
         ],
         "type": "scatter",
         "x": [
          61320
         ],
         "y": [
          1
         ]
        },
        {
         "hoverinfo": "text",
         "hoverlabel": {
          "bgcolor": "white",
          "font": {
           "color": "black"
          }
         },
         "marker": {
          "opacity": 0
         },
         "mode": "markers",
         "showlegend": false,
         "text": [
          "70 Years"
         ],
         "type": "scatter",
         "x": [
          613200
         ],
         "y": [
          1
         ]
        },
        {
         "hoverinfo": "text",
         "hoverlabel": {
          "bgcolor": "white",
          "font": {
           "color": "black"
          }
         },
         "marker": {
          "opacity": 0
         },
         "mode": "markers",
         "showlegend": false,
         "text": [
          "Cancer Ranges"
         ],
         "type": "scatter",
         "x": [
          675000
         ],
         "y": [
          1
         ]
        }
       ],
       "layout": {
        "annotations": [
         {
          "align": "center",
          "font": {
           "color": "black",
           "size": 12
          },
          "showarrow": false,
          "text": "Acute Effects",
          "x": 0.1,
          "xref": "paper",
          "y": 0.99,
          "yref": "paper"
         },
         {
          "align": "center",
          "font": {
           "color": "black",
           "size": 12
          },
          "showarrow": false,
          "text": "Short Term",
          "x": 0.44,
          "xref": "paper",
          "y": 0.99,
          "yref": "paper"
         },
         {
          "align": "center",
          "font": {
           "color": "black",
           "size": 12
          },
          "showarrow": false,
          "text": "Subchronic",
          "x": 0.7,
          "xref": "paper",
          "y": 0.99,
          "yref": "paper"
         },
         {
          "align": "center",
          "font": {
           "color": "black",
           "size": 12
          },
          "showarrow": false,
          "text": "Chronic",
          "x": 0.92,
          "xref": "paper",
          "y": 0.99,
          "yref": "paper"
         }
        ],
        "height": 800,
        "legend": {
         "font": {
          "color": "Grey",
          "size": 8
         },
         "tracegroupgap": 5
        },
        "shapes": [
         {
          "line": {
           "color": "#0085AA",
           "width": 2
          },
          "type": "line",
          "x0": 24,
          "x1": 24,
          "y0": 0,
          "y1": 1,
          "yref": "paper"
         },
         {
          "line": {
           "color": "#0085AA",
           "width": 2
          },
          "type": "line",
          "x0": 720,
          "x1": 720,
          "y0": 0,
          "y1": 1,
          "yref": "paper"
         },
         {
          "line": {
           "color": "#0085AA",
           "width": 2
          },
          "type": "line",
          "x0": 61320,
          "x1": 61320,
          "y0": 0,
          "y1": 1,
          "yref": "paper"
         },
         {
          "line": {
           "color": "#0085AA",
           "width": 2
          },
          "type": "line",
          "x0": 613200,
          "x1": 613200,
          "y0": 0,
          "y1": 1,
          "yref": "paper"
         },
         {
          "line": {
           "color": "#0085AA",
           "width": 2
          },
          "type": "line",
          "x0": 675000,
          "x1": 675000,
          "y0": 0,
          "y1": 1,
          "yref": "paper"
         },
         {
          "fillcolor": "rgba(255,255,102,0.5)",
          "line": {
           "color": "black",
           "width": 0.4
          },
          "type": "rect",
          "x0": 0,
          "x1": 0.34,
          "xref": "paper",
          "y0": 0.95,
          "y1": 1,
          "yref": "paper"
         },
         {
          "fillcolor": "rgba(255,255,102,0.5)",
          "line": {
           "color": "black",
           "width": 0.4
          },
          "type": "rect",
          "x0": 0.34,
          "x1": 0.535,
          "xref": "paper",
          "y0": 0.95,
          "y1": 1,
          "yref": "paper"
         },
         {
          "fillcolor": "rgba(255,255,102,0.5)",
          "line": {
           "color": "black",
           "width": 0.4
          },
          "type": "rect",
          "x0": 0.535,
          "x1": 0.785,
          "xref": "paper",
          "y0": 0.95,
          "y1": 1,
          "yref": "paper"
         },
         {
          "fillcolor": "rgba(255,255,102,0.5)",
          "line": {
           "color": "black",
           "width": 0.4
          },
          "type": "rect",
          "x0": 0.785,
          "x1": 1,
          "xref": "paper",
          "y0": 0.95,
          "y1": 1,
          "yref": "paper"
         }
        ],
        "template": {
         "data": {
          "bar": [
           {
            "error_x": {
             "color": "#2a3f5f"
            },
            "error_y": {
             "color": "#2a3f5f"
            },
            "marker": {
             "line": {
              "color": "white",
              "width": 0.5
             },
             "pattern": {
              "fillmode": "overlay",
              "size": 10,
              "solidity": 0.2
             }
            },
            "type": "bar"
           }
          ],
          "barpolar": [
           {
            "marker": {
             "line": {
              "color": "white",
              "width": 0.5
             },
             "pattern": {
              "fillmode": "overlay",
              "size": 10,
              "solidity": 0.2
             }
            },
            "type": "barpolar"
           }
          ],
          "carpet": [
           {
            "aaxis": {
             "endlinecolor": "#2a3f5f",
             "gridcolor": "#C8D4E3",
             "linecolor": "#C8D4E3",
             "minorgridcolor": "#C8D4E3",
             "startlinecolor": "#2a3f5f"
            },
            "baxis": {
             "endlinecolor": "#2a3f5f",
             "gridcolor": "#C8D4E3",
             "linecolor": "#C8D4E3",
             "minorgridcolor": "#C8D4E3",
             "startlinecolor": "#2a3f5f"
            },
            "type": "carpet"
           }
          ],
          "choropleth": [
           {
            "colorbar": {
             "outlinewidth": 0,
             "ticks": ""
            },
            "type": "choropleth"
           }
          ],
          "contour": [
           {
            "colorbar": {
             "outlinewidth": 0,
             "ticks": ""
            },
            "colorscale": [
             [
              0,
              "#0d0887"
             ],
             [
              0.1111111111111111,
              "#46039f"
             ],
             [
              0.2222222222222222,
              "#7201a8"
             ],
             [
              0.3333333333333333,
              "#9c179e"
             ],
             [
              0.4444444444444444,
              "#bd3786"
             ],
             [
              0.5555555555555556,
              "#d8576b"
             ],
             [
              0.6666666666666666,
              "#ed7953"
             ],
             [
              0.7777777777777778,
              "#fb9f3a"
             ],
             [
              0.8888888888888888,
              "#fdca26"
             ],
             [
              1,
              "#f0f921"
             ]
            ],
            "type": "contour"
           }
          ],
          "contourcarpet": [
           {
            "colorbar": {
             "outlinewidth": 0,
             "ticks": ""
            },
            "type": "contourcarpet"
           }
          ],
          "heatmap": [
           {
            "colorbar": {
             "outlinewidth": 0,
             "ticks": ""
            },
            "colorscale": [
             [
              0,
              "#0d0887"
             ],
             [
              0.1111111111111111,
              "#46039f"
             ],
             [
              0.2222222222222222,
              "#7201a8"
             ],
             [
              0.3333333333333333,
              "#9c179e"
             ],
             [
              0.4444444444444444,
              "#bd3786"
             ],
             [
              0.5555555555555556,
              "#d8576b"
             ],
             [
              0.6666666666666666,
              "#ed7953"
             ],
             [
              0.7777777777777778,
              "#fb9f3a"
             ],
             [
              0.8888888888888888,
              "#fdca26"
             ],
             [
              1,
              "#f0f921"
             ]
            ],
            "type": "heatmap"
           }
          ],
          "heatmapgl": [
           {
            "colorbar": {
             "outlinewidth": 0,
             "ticks": ""
            },
            "colorscale": [
             [
              0,
              "#0d0887"
             ],
             [
              0.1111111111111111,
              "#46039f"
             ],
             [
              0.2222222222222222,
              "#7201a8"
             ],
             [
              0.3333333333333333,
              "#9c179e"
             ],
             [
              0.4444444444444444,
              "#bd3786"
             ],
             [
              0.5555555555555556,
              "#d8576b"
             ],
             [
              0.6666666666666666,
              "#ed7953"
             ],
             [
              0.7777777777777778,
              "#fb9f3a"
             ],
             [
              0.8888888888888888,
              "#fdca26"
             ],
             [
              1,
              "#f0f921"
             ]
            ],
            "type": "heatmapgl"
           }
          ],
          "histogram": [
           {
            "marker": {
             "pattern": {
              "fillmode": "overlay",
              "size": 10,
              "solidity": 0.2
             }
            },
            "type": "histogram"
           }
          ],
          "histogram2d": [
           {
            "colorbar": {
             "outlinewidth": 0,
             "ticks": ""
            },
            "colorscale": [
             [
              0,
              "#0d0887"
             ],
             [
              0.1111111111111111,
              "#46039f"
             ],
             [
              0.2222222222222222,
              "#7201a8"
             ],
             [
              0.3333333333333333,
              "#9c179e"
             ],
             [
              0.4444444444444444,
              "#bd3786"
             ],
             [
              0.5555555555555556,
              "#d8576b"
             ],
             [
              0.6666666666666666,
              "#ed7953"
             ],
             [
              0.7777777777777778,
              "#fb9f3a"
             ],
             [
              0.8888888888888888,
              "#fdca26"
             ],
             [
              1,
              "#f0f921"
             ]
            ],
            "type": "histogram2d"
           }
          ],
          "histogram2dcontour": [
           {
            "colorbar": {
             "outlinewidth": 0,
             "ticks": ""
            },
            "colorscale": [
             [
              0,
              "#0d0887"
             ],
             [
              0.1111111111111111,
              "#46039f"
             ],
             [
              0.2222222222222222,
              "#7201a8"
             ],
             [
              0.3333333333333333,
              "#9c179e"
             ],
             [
              0.4444444444444444,
              "#bd3786"
             ],
             [
              0.5555555555555556,
              "#d8576b"
             ],
             [
              0.6666666666666666,
              "#ed7953"
             ],
             [
              0.7777777777777778,
              "#fb9f3a"
             ],
             [
              0.8888888888888888,
              "#fdca26"
             ],
             [
              1,
              "#f0f921"
             ]
            ],
            "type": "histogram2dcontour"
           }
          ],
          "mesh3d": [
           {
            "colorbar": {
             "outlinewidth": 0,
             "ticks": ""
            },
            "type": "mesh3d"
           }
          ],
          "parcoords": [
           {
            "line": {
             "colorbar": {
              "outlinewidth": 0,
              "ticks": ""
             }
            },
            "type": "parcoords"
           }
          ],
          "pie": [
           {
            "automargin": true,
            "type": "pie"
           }
          ],
          "scatter": [
           {
            "fillpattern": {
             "fillmode": "overlay",
             "size": 10,
             "solidity": 0.2
            },
            "type": "scatter"
           }
          ],
          "scatter3d": [
           {
            "line": {
             "colorbar": {
              "outlinewidth": 0,
              "ticks": ""
             }
            },
            "marker": {
             "colorbar": {
              "outlinewidth": 0,
              "ticks": ""
             }
            },
            "type": "scatter3d"
           }
          ],
          "scattercarpet": [
           {
            "marker": {
             "colorbar": {
              "outlinewidth": 0,
              "ticks": ""
             }
            },
            "type": "scattercarpet"
           }
          ],
          "scattergeo": [
           {
            "marker": {
             "colorbar": {
              "outlinewidth": 0,
              "ticks": ""
             }
            },
            "type": "scattergeo"
           }
          ],
          "scattergl": [
           {
            "marker": {
             "colorbar": {
              "outlinewidth": 0,
              "ticks": ""
             }
            },
            "type": "scattergl"
           }
          ],
          "scattermapbox": [
           {
            "marker": {
             "colorbar": {
              "outlinewidth": 0,
              "ticks": ""
             }
            },
            "type": "scattermapbox"
           }
          ],
          "scatterpolar": [
           {
            "marker": {
             "colorbar": {
              "outlinewidth": 0,
              "ticks": ""
             }
            },
            "type": "scatterpolar"
           }
          ],
          "scatterpolargl": [
           {
            "marker": {
             "colorbar": {
              "outlinewidth": 0,
              "ticks": ""
             }
            },
            "type": "scatterpolargl"
           }
          ],
          "scatterternary": [
           {
            "marker": {
             "colorbar": {
              "outlinewidth": 0,
              "ticks": ""
             }
            },
            "type": "scatterternary"
           }
          ],
          "surface": [
           {
            "colorbar": {
             "outlinewidth": 0,
             "ticks": ""
            },
            "colorscale": [
             [
              0,
              "#0d0887"
             ],
             [
              0.1111111111111111,
              "#46039f"
             ],
             [
              0.2222222222222222,
              "#7201a8"
             ],
             [
              0.3333333333333333,
              "#9c179e"
             ],
             [
              0.4444444444444444,
              "#bd3786"
             ],
             [
              0.5555555555555556,
              "#d8576b"
             ],
             [
              0.6666666666666666,
              "#ed7953"
             ],
             [
              0.7777777777777778,
              "#fb9f3a"
             ],
             [
              0.8888888888888888,
              "#fdca26"
             ],
             [
              1,
              "#f0f921"
             ]
            ],
            "type": "surface"
           }
          ],
          "table": [
           {
            "cells": {
             "fill": {
              "color": "#EBF0F8"
             },
             "line": {
              "color": "white"
             }
            },
            "header": {
             "fill": {
              "color": "#C8D4E3"
             },
             "line": {
              "color": "white"
             }
            },
            "type": "table"
           }
          ]
         },
         "layout": {
          "annotationdefaults": {
           "arrowcolor": "#2a3f5f",
           "arrowhead": 0,
           "arrowwidth": 1
          },
          "autotypenumbers": "strict",
          "coloraxis": {
           "colorbar": {
            "outlinewidth": 0,
            "ticks": ""
           }
          },
          "colorscale": {
           "diverging": [
            [
             0,
             "#8e0152"
            ],
            [
             0.1,
             "#c51b7d"
            ],
            [
             0.2,
             "#de77ae"
            ],
            [
             0.3,
             "#f1b6da"
            ],
            [
             0.4,
             "#fde0ef"
            ],
            [
             0.5,
             "#f7f7f7"
            ],
            [
             0.6,
             "#e6f5d0"
            ],
            [
             0.7,
             "#b8e186"
            ],
            [
             0.8,
             "#7fbc41"
            ],
            [
             0.9,
             "#4d9221"
            ],
            [
             1,
             "#276419"
            ]
           ],
           "sequential": [
            [
             0,
             "#0d0887"
            ],
            [
             0.1111111111111111,
             "#46039f"
            ],
            [
             0.2222222222222222,
             "#7201a8"
            ],
            [
             0.3333333333333333,
             "#9c179e"
            ],
            [
             0.4444444444444444,
             "#bd3786"
            ],
            [
             0.5555555555555556,
             "#d8576b"
            ],
            [
             0.6666666666666666,
             "#ed7953"
            ],
            [
             0.7777777777777778,
             "#fb9f3a"
            ],
            [
             0.8888888888888888,
             "#fdca26"
            ],
            [
             1,
             "#f0f921"
            ]
           ],
           "sequentialminus": [
            [
             0,
             "#0d0887"
            ],
            [
             0.1111111111111111,
             "#46039f"
            ],
            [
             0.2222222222222222,
             "#7201a8"
            ],
            [
             0.3333333333333333,
             "#9c179e"
            ],
            [
             0.4444444444444444,
             "#bd3786"
            ],
            [
             0.5555555555555556,
             "#d8576b"
            ],
            [
             0.6666666666666666,
             "#ed7953"
            ],
            [
             0.7777777777777778,
             "#fb9f3a"
            ],
            [
             0.8888888888888888,
             "#fdca26"
            ],
            [
             1,
             "#f0f921"
            ]
           ]
          },
          "colorway": [
           "#636efa",
           "#EF553B",
           "#00cc96",
           "#ab63fa",
           "#FFA15A",
           "#19d3f3",
           "#FF6692",
           "#B6E880",
           "#FF97FF",
           "#FECB52"
          ],
          "font": {
           "color": "#2a3f5f"
          },
          "geo": {
           "bgcolor": "white",
           "lakecolor": "white",
           "landcolor": "white",
           "showlakes": true,
           "showland": true,
           "subunitcolor": "#C8D4E3"
          },
          "hoverlabel": {
           "align": "left"
          },
          "hovermode": "closest",
          "mapbox": {
           "style": "light"
          },
          "paper_bgcolor": "white",
          "plot_bgcolor": "white",
          "polar": {
           "angularaxis": {
            "gridcolor": "#EBF0F8",
            "linecolor": "#EBF0F8",
            "ticks": ""
           },
           "bgcolor": "white",
           "radialaxis": {
            "gridcolor": "#EBF0F8",
            "linecolor": "#EBF0F8",
            "ticks": ""
           }
          },
          "scene": {
           "xaxis": {
            "backgroundcolor": "white",
            "gridcolor": "#DFE8F3",
            "gridwidth": 2,
            "linecolor": "#EBF0F8",
            "showbackground": true,
            "ticks": "",
            "zerolinecolor": "#EBF0F8"
           },
           "yaxis": {
            "backgroundcolor": "white",
            "gridcolor": "#DFE8F3",
            "gridwidth": 2,
            "linecolor": "#EBF0F8",
            "showbackground": true,
            "ticks": "",
            "zerolinecolor": "#EBF0F8"
           },
           "zaxis": {
            "backgroundcolor": "white",
            "gridcolor": "#DFE8F3",
            "gridwidth": 2,
            "linecolor": "#EBF0F8",
            "showbackground": true,
            "ticks": "",
            "zerolinecolor": "#EBF0F8"
           }
          },
          "shapedefaults": {
           "line": {
            "color": "#2a3f5f"
           }
          },
          "ternary": {
           "aaxis": {
            "gridcolor": "#DFE8F3",
            "linecolor": "#A2B1C6",
            "ticks": ""
           },
           "baxis": {
            "gridcolor": "#DFE8F3",
            "linecolor": "#A2B1C6",
            "ticks": ""
           },
           "bgcolor": "white",
           "caxis": {
            "gridcolor": "#DFE8F3",
            "linecolor": "#A2B1C6",
            "ticks": ""
           }
          },
          "title": {
           "x": 0.05
          },
          "xaxis": {
           "automargin": true,
           "gridcolor": "#EBF0F8",
           "linecolor": "#EBF0F8",
           "ticks": "",
           "title": {
            "standoff": 15
           },
           "zerolinecolor": "#EBF0F8",
           "zerolinewidth": 2
          },
          "yaxis": {
           "automargin": true,
           "gridcolor": "#EBF0F8",
           "linecolor": "#EBF0F8",
           "ticks": "",
           "title": {
            "standoff": 15
           },
           "zerolinecolor": "#EBF0F8",
           "zerolinewidth": 2
          }
         }
        },
        "title": {
         "text": "Benzene Inhalation Reference Values"
        },
        "width": 1000,
        "xaxis": {
         "title": {
          "text": "Duration (Hours)"
         },
         "type": "log"
        },
        "yaxis": {
         "title": {
          "text": "Concentration mg/m3"
         },
         "type": "log"
        }
       }
      }
     },
     "metadata": {},
     "output_type": "display_data"
    }
   ],
   "source": [
    "fig = go.Figure()\n",
    "\n",
    "'''\n",
    "# Colors for legend categories, added as CatColors\n",
    "category_colors = {\n",
    "    \"Emergency Response\" : 'Red',\n",
    "    \"Occupational\" : 'Gold',\n",
    "    \"General Public\" : 'Green',\n",
    "}\n",
    "'''\n",
    "shape_mapping = {\n",
    "    \"Diamond\": \"diamond\",\n",
    "    \"Triangle\": \"triangle-up\",\n",
    "    \"Circle\": \"circle\",\n",
    "    \"Square\": \"square\",\n",
    "    \"Cross\": \"cross\",\n",
    "    \"Circle-Open\": \"circle-open\",\n",
    "}\n",
    "\n",
    "color_mapping = {\n",
    "    \"Red\": \"red\",\n",
    "    \"Gold\": \"gold\",\n",
    "    \"Blue\": \"#0085AA\",\n",
    "    \"Orange\": \"orange\",\n",
    "    \"Yellow\": \"yellow\",\n",
    "    \"Peach\": \"#FFDAB9\",\n",
    "    \"Beige\": \"#F5F5DC\",\n",
    "    \"White\": \"white\",\n",
    "    \"Pink\": \"pink\",\n",
    "    \"Light Green\": \"#90EE90\",\n",
    "    \"Green\": \"#008700\",\n",
    "    \"Pale Green\": \"#98FB98\",\n",
    "}\n",
    "\n",
    "line_mapping = {\n",
    "    \"Solid\": \"solid\",\n",
    "    \"Dash\": \"dash\",\n",
    "    \"Dot\": \"dot\",\n",
    "    \"Dashdot\": \"dashdot\",\n",
    "    \"None\" : \"none\",\n",
    "}\n",
    "\n",
    "outline_mapping = {\n",
    "    \"Yes\": 1,\n",
    "    \"No\": 0,\n",
    "}\n",
    "\n",
    "\n",
    "for idx, ref_value in enumerate(ref_values):\n",
    "    durations = data.loc[idx, time_periods].dropna().values\n",
    "    values = data.loc[idx, value_columns].dropna().values\n",
    "    \n",
    "    shape = data.loc[idx, 'Shape']\n",
    "    color_name = data.loc[idx, 'MarkColor']\n",
    "    outline = data.loc[idx, 'Outline']\n",
    "    line_type = data.loc[idx, \"LineDash\"]\n",
    "\n",
    "    marker_symbol = shape_mapping.get(shape, \"circle\")\n",
    "    marker_color = color_mapping.get(color_name, \"gray\")\n",
    "    marker_outline = outline_mapping.get(outline, \"black\")\n",
    "\n",
    "    line_appearance = line_mapping.get(line_type, \"solid\")\n",
    "\n",
    "    showlegend = ref_value in valid_ref_values\n",
    "\n",
    "\n",
    "    category = data.loc[idx, 'Type']\n",
    "\n",
    "    if category == \"Emergency Response\":\n",
    "        legend_title = \"Emergency Response\"\n",
    "        legend_bgcolor = \"Red\"\n",
    "    elif category == \"Occupational\":\n",
    "        legend_title = \"Occupational\"\n",
    "        legend_bgcolor = \"Gold\"\n",
    "    else:\n",
    "        legend_title = \"General Public\"\n",
    "        legend_bgcolor = \"Green\"\n",
    "\n",
    "\n",
    "    fig.add_trace(go.Scatter(\n",
    "        x=durations,\n",
    "        y=values,\n",
    "        mode='lines+markers', # +text',\n",
    "        name=ref_value,\n",
    "        hoverlabel = dict(bgcolor=\"white\", font_size = 16, font_family = \"Rockwell\", font_color = \"black\"),\n",
    "\n",
    "        hovertemplate=(\n",
    "            \"<b>%{customdata}</b><br>\"\n",
    "            \"x: %{x}<br>\"\n",
    "            \"y: %{y}\"\n",
    "            \"<extra></extra>\"\n",
    "        ),\n",
    "\n",
    "        customdata=[ref_value]*len(durations), \n",
    "        legendgroup=category,\n",
    "\n",
    "        marker=dict(symbol=marker_symbol, color=marker_color, size = 8, line=dict(width = marker_outline, color = \"black\")),\n",
    "        line=dict(dash=line_appearance),\n",
    "        #text = [ref_value], # * len[values],\n",
    "        #textposition=\"top center\"\n",
    "    ))\n",
    "\n",
    "annotations = []\n",
    "\n",
    "legend_x = 1.05\n",
    "legend_y = 1.0\n",
    "legend_gap = 0.1\n",
    "\n",
    "legend_y2 = 1.0\n",
    "legend_gap2 = 0.1\n",
    "\n",
    "\n",
    "# Set axes and add legend\n",
    "# TODO: Get legend in 2 columns, avoid scrolling\n",
    "fig.update_layout(\n",
    "    title=\"Benzene Inhalation Reference Values\",\n",
    "    xaxis_title=\"Duration (Hours)\",\n",
    "    yaxis_title=\"Concentration mg/m3\",\n",
    "    xaxis_type=\"log\",\n",
    "    yaxis_type=\"log\",\n",
    "    template=\"plotly_white\",\n",
    "    height = 800,\n",
    "    width = 1000,\n",
    "\n",
    "    # hovermode=\"x unified\",\n",
    "\n",
    "    legend = dict(\n",
    "        # groupclick = \"toggleitem\",\n",
    "        tracegroupgap = 5,\n",
    "        #orientation = \"h\",\n",
    "        #x=0,\n",
    "        #y=-0.2,\n",
    "        #traceorder=\"normal\",\n",
    "        # bgcolor = \"LightSteelBlue\",\n",
    "        font=dict(\n",
    "            color = \"Grey\",\n",
    "            size=8\n",
    "        )\n",
    "    ),\n",
    "    annotations = annotations\n",
    "\n",
    ")\n",
    "\n",
    "# This stuff causes issues when placed before update layout chunk\n",
    "\n",
    "# lines to add, specified by x-position\n",
    "lines = {'24 Hours':24,'30 Days':720,'7 years':61320,'70 Years':613200,'Cancer Ranges':675000}\n",
    "\n",
    "\n",
    "\n",
    "# Actually adds the lines\n",
    "for label, x_position in lines.items():\n",
    "    #print(k)\n",
    "    fig.add_shape(type='line',\n",
    "                yref=\"paper\",\n",
    "                x0=x_position,\n",
    "                y0=0,\n",
    "                x1=x_position,\n",
    "                y1=1,\n",
    "                line=dict(color='#0085AA', width=2))\n",
    "    \n",
    "    # Create scatter trace of text labels\n",
    "    fig.add_trace(go.Scatter(\n",
    "        x=[x_position],\n",
    "        # yref = 'paper',\n",
    "        y = [1],\n",
    "        mode = \"markers\",\n",
    "        marker=dict(opacity=0),\n",
    "        hoverinfo=\"text\",\n",
    "        hoverlabel = dict(bgcolor=\"white\", font_color=\"black\"),\n",
    "        text=[label],\n",
    "        showlegend=False\n",
    "    ))\n",
    "\n",
    "fig.add_shape(\n",
    "    type=\"rect\",\n",
    "    xref=\"paper\",\n",
    "    x0=0,\n",
    "    x1=0.34,\n",
    "    yref=\"paper\",\n",
    "    y0=.95,\n",
    "    y1=1,\n",
    "    fillcolor=\"rgba(255,255,102,0.5)\",\n",
    "    line=dict(color=\"black\", width=0.4)\n",
    ")\n",
    "\n",
    "fig.add_annotation(\n",
    "    xref=\"paper\",\n",
    "    x=.1,\n",
    "    yref=\"paper\",\n",
    "    y=.99,\n",
    "    text=\"Acute Effects\",\n",
    "    showarrow=False,\n",
    "    font=dict(size=12,color=\"black\"),\n",
    "    align=\"center\"\n",
    ")\n",
    "\n",
    "fig.add_shape(\n",
    "    type=\"rect\",\n",
    "    xref=\"paper\",\n",
    "    x0=0.34,\n",
    "    x1=0.535,\n",
    "    yref=\"paper\",\n",
    "    y0=.95,\n",
    "    y1=1,\n",
    "    fillcolor=\"rgba(255,255,102,0.5)\",\n",
    "    line=dict(color=\"black\", width=0.4)\n",
    ")\n",
    "\n",
    "fig.add_annotation(\n",
    "    xref=\"paper\",\n",
    "    x=.44,\n",
    "    yref=\"paper\",\n",
    "    y=.99,\n",
    "    text=\"Short Term\",\n",
    "    showarrow=False,\n",
    "    font=dict(size=12,color=\"black\"),\n",
    "    align=\"center\"\n",
    ")\n",
    "\n",
    "fig.add_shape(\n",
    "    type=\"rect\",\n",
    "    xref=\"paper\",\n",
    "    x0=0.535,\n",
    "    x1=0.785,\n",
    "    yref=\"paper\",\n",
    "    y0=.95,\n",
    "    y1=1,\n",
    "    fillcolor=\"rgba(255,255,102,0.5)\",\n",
    "    line=dict(color=\"black\", width=0.4)\n",
    ")\n",
    "\n",
    "fig.add_annotation(\n",
    "    xref=\"paper\",\n",
    "    x=.7,\n",
    "    yref=\"paper\",\n",
    "    y=.99,\n",
    "    text=\"Subchronic\",\n",
    "    showarrow=False,\n",
    "    font=dict(size=12,color=\"black\"),\n",
    "    align=\"center\"\n",
    ")\n",
    "\n",
    "fig.add_shape(\n",
    "    type=\"rect\",\n",
    "    xref=\"paper\",\n",
    "    x0=0.785,\n",
    "    x1=1,\n",
    "    yref=\"paper\",\n",
    "    y0=.95,\n",
    "    y1=1,\n",
    "    fillcolor=\"rgba(255,255,102,0.5)\",\n",
    "    line=dict(color=\"black\", width=0.4)\n",
    ")\n",
    "\n",
    "fig.add_annotation(\n",
    "    xref=\"paper\",\n",
    "    x=.92,\n",
    "    yref=\"paper\",\n",
    "    y=.99,\n",
    "    text=\"Chronic\",\n",
    "    showarrow=False,\n",
    "    font=dict(size=12,color=\"black\"),\n",
    "    align=\"center\"\n",
    ")\n",
    "\n",
    "fig.show()"
   ]
  }
 ],
 "metadata": {
  "kernelspec": {
   "display_name": "Python 3",
   "language": "python",
   "name": "python3"
  },
  "language_info": {
   "codemirror_mode": {
    "name": "ipython",
    "version": 3
   },
   "file_extension": ".py",
   "mimetype": "text/x-python",
   "name": "python",
   "nbconvert_exporter": "python",
   "pygments_lexer": "ipython3",
   "version": "3.12.2"
  }
 },
 "nbformat": 4,
 "nbformat_minor": 2
}
